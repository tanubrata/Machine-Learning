{
  "nbformat": 4,
  "nbformat_minor": 0,
  "metadata": {
    "colab": {
      "name": "HW5_DEY.ipynb",
      "provenance": [],
      "collapsed_sections": []
    },
    "kernelspec": {
      "name": "python3",
      "display_name": "Python 3"
    }
  },
  "cells": [
    {
      "cell_type": "markdown",
      "metadata": {
        "id": "Z2MzaK1j2XM0"
      },
      "source": [
        "# Homework 5"
      ]
    },
    {
      "cell_type": "markdown",
      "metadata": {
        "id": "Kq0m1u7-FI39"
      },
      "source": [
        "### Name : Tanubrata Dey (td2201)"
      ]
    },
    {
      "cell_type": "markdown",
      "metadata": {
        "id": "9FbDJLIdFf4p"
      },
      "source": [
        "Q1. (50pts)\n",
        "\n",
        "\n",
        "1.   Use Lasso regularization to fit a model to predict body_mass_g from flipper_length and bill_depth_mm using a 10th degree polynomial. If you are using R, use the funtion `poly`.\n",
        "2.   Fit a linear model to predict body_mass_g from flipper_length and bill_depth_mm using a 10th degree polynomial (no regularization)\n",
        "3. Create a fake test dataset for flipper_length and bill_depth_mm where each vector ranges from -50 to 50 (example below). Predict body_mass_g using the linear model with no regularization, and then using lasso. Plot the density of the predictions for each (example below). \n",
        "4. Explain what you see when you use your fake dataset for lasso and linear regression with no regularization. Is this expected?\n",
        "\n",
        "\n",
        "\n",
        "\n"
      ]
    },
    {
      "cell_type": "code",
      "metadata": {
        "id": "1Yxz3x-HKuuo"
      },
      "source": [
        "%%capture\n",
        "# activate R magic to use R in this notebook\n",
        "# https://ipython.org/ipython-doc/2/config/extensions/rmagic.html\n",
        "%load_ext rpy2.ipython"
      ],
      "execution_count": 1,
      "outputs": []
    },
    {
      "cell_type": "code",
      "metadata": {
        "id": "uim0sXmMK5dq"
      },
      "source": [
        "%%R \n",
        "install.packages(\"palmerpenguins\")\n",
        "library(palmerpenguins)\n",
        "data(package = 'palmerpenguins')\n",
        "head(penguins)"
      ],
      "execution_count": null,
      "outputs": []
    },
    {
      "cell_type": "code",
      "metadata": {
        "id": "tANm2d14hgl8"
      },
      "source": [
        "fake_test <- data.frame(flipper_length_mm = seq(-50, 50, 1),\n",
        "                        bill_depth_mm = seq(-50, 50, 1))"
      ],
      "execution_count": null,
      "outputs": []
    },
    {
      "cell_type": "code",
      "metadata": {
        "id": "MVOT3Y1aiUaT"
      },
      "source": [
        "# data is a data frame with a column named preditions_lasso that contains the predictions using the fake test set using lasso regression.\n",
        "ggplot(data, aes(preditions_lasso)) +\n",
        "geom_density()"
      ],
      "execution_count": null,
      "outputs": []
    },
    {
      "cell_type": "markdown",
      "metadata": {
        "id": "lLIpkKkGPr7O"
      },
      "source": [
        "***\n",
        "**1.1) Use Lasso regularization to fit a model to predict body_mass_g from flipper_length and bill_depth_mm using a 10th degree polynomial. If you are using R, use the funtion poly.**"
      ]
    },
    {
      "cell_type": "code",
      "metadata": {
        "id": "09PgeaXKPogY"
      },
      "source": [
        "%%capture\n",
        "%%R \n",
        "install.packages(\"palmerpenguins\")\n",
        "library(palmerpenguins)\n",
        "data(package = 'palmerpenguins')\n",
        "head(penguins)"
      ],
      "execution_count": 2,
      "outputs": []
    },
    {
      "cell_type": "code",
      "metadata": {
        "colab": {
          "base_uri": "https://localhost:8080/"
        },
        "id": "XLLuxEUEX8fA",
        "outputId": "886037ad-8796-40fd-d78e-9eb736102f13"
      },
      "source": [
        "%%R\n",
        "head(penguins)"
      ],
      "execution_count": 3,
      "outputs": [
        {
          "output_type": "stream",
          "name": "stdout",
          "text": [
            "# A tibble: 6 × 8\n",
            "  species island bill_length_mm bill_depth_mm flipper_length_… body_mass_g sex  \n",
            "  <fct>   <fct>           <dbl>         <dbl>            <int>       <int> <fct>\n",
            "1 Adelie  Torge…           39.1          18.7              181        3750 male \n",
            "2 Adelie  Torge…           39.5          17.4              186        3800 fema…\n",
            "3 Adelie  Torge…           40.3          18                195        3250 fema…\n",
            "4 Adelie  Torge…           NA            NA                 NA          NA <NA> \n",
            "5 Adelie  Torge…           36.7          19.3              193        3450 fema…\n",
            "6 Adelie  Torge…           39.3          20.6              190        3650 male \n",
            "# … with 1 more variable: year <int>\n"
          ]
        }
      ]
    },
    {
      "cell_type": "code",
      "metadata": {
        "id": "XBcBkekzaFqW"
      },
      "source": [
        "%%capture\n",
        "%%R\n",
        "install.packages(\"caret\")\n",
        "library(ggplot2)\n",
        "library(caret)\n"
      ],
      "execution_count": 10,
      "outputs": []
    },
    {
      "cell_type": "code",
      "metadata": {
        "id": "_ztKx8F6Zp_m"
      },
      "source": [
        "%%R\n",
        "\n",
        "penguins_subs = penguins[ , c(\"bill_depth_mm\", \"flipper_length_mm\", \"body_mass_g\")]\n"
      ],
      "execution_count": 4,
      "outputs": []
    },
    {
      "cell_type": "code",
      "metadata": {
        "colab": {
          "base_uri": "https://localhost:8080/"
        },
        "id": "yQdd1NtskJqR",
        "outputId": "02a1b984-e0d1-466c-e24e-9946feef3030"
      },
      "source": [
        "%%R\n",
        "dim(penguins_subs)"
      ],
      "execution_count": 5,
      "outputs": [
        {
          "output_type": "stream",
          "name": "stdout",
          "text": [
            "[1] 344   3\n"
          ]
        }
      ]
    },
    {
      "cell_type": "code",
      "metadata": {
        "colab": {
          "base_uri": "https://localhost:8080/"
        },
        "id": "WxppjrVjiY3q",
        "outputId": "0526390b-a1c7-443f-f020-d9ebae787397"
      },
      "source": [
        "%%R\n",
        "#dropping the NA values in the data\n",
        "penguin_filter = na.omit(penguins_subs)\n",
        "dim(penguin_filter)"
      ],
      "execution_count": 6,
      "outputs": [
        {
          "output_type": "stream",
          "name": "stdout",
          "text": [
            "[1] 342   3\n"
          ]
        }
      ]
    },
    {
      "cell_type": "code",
      "metadata": {
        "id": "6Gh4mJAmY6jR"
      },
      "source": [
        "%%R\n",
        "#creating the train and test data\n",
        "train_size <- floor(0.75 * nrow(penguin_filter))\n",
        "set.seed(543)\n",
        "train_pos <- sample(seq_len(nrow(penguin_filter)), size = train_size)\n",
        "\n",
        "train_regression <- data.frame(penguin_filter[train_pos,]) \n",
        "test_regression <- data.frame(penguin_filter[-train_pos,])"
      ],
      "execution_count": 7,
      "outputs": []
    },
    {
      "cell_type": "code",
      "metadata": {
        "colab": {
          "base_uri": "https://localhost:8080/"
        },
        "id": "CutuR-KjeniP",
        "outputId": "06b5c24d-94ca-48db-9055-771e58a23d03"
      },
      "source": [
        "%%R\n",
        "print(dim(train_regression)) #dim of train data\n",
        "print(dim(test_regression)) #dim of test data"
      ],
      "execution_count": 8,
      "outputs": [
        {
          "output_type": "stream",
          "name": "stdout",
          "text": [
            "[1] 256   3\n",
            "[1] 86  3\n"
          ]
        }
      ]
    },
    {
      "cell_type": "code",
      "metadata": {
        "id": "XRqf-LtbgYkl"
      },
      "source": [
        "%%R\n",
        "#train_regression_scaled = data.frame(scale(train_regression))\n",
        "#test_regression_scaled = data.frame(scale(test_regression))"
      ],
      "execution_count": 53,
      "outputs": []
    },
    {
      "cell_type": "code",
      "metadata": {
        "colab": {
          "base_uri": "https://localhost:8080/"
        },
        "id": "eY6PqneEe7OH",
        "outputId": "760a3148-f7a7-4a96-81b1-9f49f6cea954"
      },
      "source": [
        "%%R\n",
        "#install.packages(\"stats\")\n",
        "library(stats)\n",
        "\n",
        "ctrl =  trainControl(method = \"cv\", 15) \n",
        "\n",
        "Lasso_regression <- train(body_mass_g ~ poly(flipper_length_mm + bill_depth_mm, 10), data = train_regression,\n",
        "                          method = \"lasso\", trControl= ctrl, na.action=na.exclude) #fitting the lasso model\n",
        "Lasso_regression"
      ],
      "execution_count": 12,
      "outputs": [
        {
          "output_type": "stream",
          "name": "stdout",
          "text": [
            "The lasso \n",
            "\n",
            "256 samples\n",
            "  2 predictor\n",
            "\n",
            "No pre-processing\n",
            "Resampling: Cross-Validated (15 fold) \n",
            "Summary of sample sizes: 238, 239, 238, 236, 238, 239, ... \n",
            "Resampling results across tuning parameters:\n",
            "\n",
            "  fraction  RMSE      Rsquared   MAE     \n",
            "  0.1       714.4024  0.7726384  604.7603\n",
            "  0.5       452.2081  0.7726384  369.1150\n",
            "  0.9       381.0900  0.7844169  301.9747\n",
            "\n",
            "RMSE was used to select the optimal model using the smallest value.\n",
            "The final value used for the model was fraction = 0.9.\n"
          ]
        }
      ]
    },
    {
      "cell_type": "code",
      "metadata": {
        "colab": {
          "base_uri": "https://localhost:8080/",
          "height": 497
        },
        "id": "PKYlYIlvmJ4R",
        "outputId": "19652c55-79f3-48e5-cddc-a87760d7f306"
      },
      "source": [
        "%%R\n",
        "lasso_test_pred <- predict(Lasso_regression, newdata = test_regression)\n",
        "\n",
        "#plot the predicted values vs the observed values\n",
        "plot_lasso_test_pred <- data.frame(bodymass_test_pred = lasso_test_pred, \n",
        "                                   Observed_bodymass = test_regression$body_mass_g)\n",
        "ggplot(data = plot_lasso_test_pred) +\n",
        "  geom_point(aes(x=Observed_bodymass, y = bodymass_test_pred)) + \n",
        "  ggtitle(\"True Body_Mass_G vs Predicted Body_Mass_G Lasso Regression\")\n",
        "\n"
      ],
      "execution_count": 14,
      "outputs": [
        {
          "output_type": "display_data",
          "data": {
            "image/png": "[encoded data removed]"
          },
          "metadata": {}
        }
      ]
    },
    {
      "cell_type": "code",
      "metadata": {
        "colab": {
          "base_uri": "https://localhost:8080/"
        },
        "id": "O0FCHBCcvgHl",
        "outputId": "8576fc07-9a83-4572-c14d-d32bc43fbe31"
      },
      "source": [
        "%%R\n",
        "lasso_test_pred #lasso prediction"
      ],
      "execution_count": 15,
      "outputs": [
        {
          "output_type": "stream",
          "name": "stdout",
          "text": [
            "       1        2        3        4        5        6        7        8 \n",
            "3818.373 3781.586 3466.212 3389.002 3473.157 3440.272 3392.052 3386.020 \n",
            "       9       10       11       12       13       14       15       16 \n",
            "3410.074 3446.485 3643.066 3428.375 3487.612 3524.358 3673.067 3975.564 \n",
            "      17       18       19       20       21       22       23       24 \n",
            "3688.662 3597.659 3842.168 3480.290 3871.527 3643.066 3601.006 3334.296 \n",
            "      25       26       27       28       29       30       31       32 \n",
            "3688.662 3742.108 3759.404 3550.284 3601.006 4234.433 4053.756 3510.741 \n",
            "      33       34       35       36       37       38       39       40 \n",
            "3725.213 3482.709 3643.066 3733.610 4476.352 4429.368 4901.411 4702.145 \n",
            "      41       42       43       44       45       46       47       48 \n",
            "4880.962 4874.133 5219.668 5334.852 4298.072 5632.553 5508.794 5366.906 \n",
            "      49       50       51       52       53       54       55       56 \n",
            "4456.161 4928.572 4317.446 5631.631 5087.954 5295.903 4791.785 5440.948 \n",
            "      57       58       59       60       61       62       63       64 \n",
            "5463.476 4633.241 4784.898 5527.327 4510.171 4948.855 5627.403 5356.365 \n",
            "      65       66       67       68       69       70       71       72 \n",
            "4653.890 3684.726 3571.734 3959.369 3927.594 4076.856 3455.050 3485.150 \n",
            "      73       74       75       76       77       78       79       80 \n",
            "3790.634 3970.143 4142.017 4530.553 3487.612 3508.084 3611.194 3932.832 \n",
            "      81       82       83       84       85       86 \n",
            "3938.094 4203.200 4376.276 3601.006 4389.483 3772.639 \n"
          ]
        }
      ]
    },
    {
      "cell_type": "markdown",
      "metadata": {
        "id": "0Dd8vzGLnLBD"
      },
      "source": [
        "**2. Fit a linear model to predict body_mass_g from flipper_length and bill_depth_mm using a 10th degree polynomial (no regularization)**"
      ]
    },
    {
      "cell_type": "code",
      "metadata": {
        "colab": {
          "base_uri": "https://localhost:8080/"
        },
        "id": "C10iHmuswbUs",
        "outputId": "67eebf80-7787-48c6-90be-b60540538231"
      },
      "source": [
        "%%R\n",
        "\n",
        "lm_fit = train(body_mass_g ~ poly(flipper_length_mm + bill_depth_mm, 10), data = train_regression,\n",
        "                          method = 'lm', trControl= ctrl, na.action=na.exclude) #fitting linear model\n",
        "lm_fit"
      ],
      "execution_count": 16,
      "outputs": [
        {
          "output_type": "stream",
          "name": "stdout",
          "text": [
            "Linear Regression \n",
            "\n",
            "256 samples\n",
            "  2 predictor\n",
            "\n",
            "No pre-processing\n",
            "Resampling: Cross-Validated (15 fold) \n",
            "Summary of sample sizes: 239, 237, 239, 238, 239, 240, ... \n",
            "Resampling results:\n",
            "\n",
            "  RMSE     Rsquared   MAE     \n",
            "  381.278  0.7805404  304.8264\n",
            "\n",
            "Tuning parameter 'intercept' was held constant at a value of TRUE\n"
          ]
        }
      ]
    },
    {
      "cell_type": "code",
      "metadata": {
        "colab": {
          "base_uri": "https://localhost:8080/"
        },
        "id": "2uRkEyk1ySrs",
        "outputId": "f9e27b00-8dae-4cd6-fab6-f123e909eece"
      },
      "source": [
        "%%R\n",
        "lm_test_pred = predict(lm_fit, test_regression) #lm prediction\n",
        "lm_test_pred"
      ],
      "execution_count": 17,
      "outputs": [
        {
          "output_type": "stream",
          "name": "stdout",
          "text": [
            "       1        2        3        4        5        6        7        8 \n",
            "3780.717 3745.703 3464.605 3385.597 3472.573 3433.865 3386.831 3384.782 \n",
            "       9       10       11       12       13       14       15       16 \n",
            "3400.218 3441.293 3625.944 3419.851 3488.605 3525.812 3650.465 3942.047 \n",
            "      17       18       19       20       21       22       23       24 \n",
            "3663.452 3589.242 3804.042 3480.581 3833.472 3625.944 3591.964 3463.963 \n",
            "      25       26       27       28       29       30       31       32 \n",
            "3663.452 3709.667 3725.253 3549.440 3591.964 4219.864 4026.047 3512.595 \n",
            "      33       34       35       36       37       38       39       40 \n",
            "3694.747 3483.255 3625.944 3702.126 4471.196 4422.913 4924.590 4705.892 \n",
            "      41       42       43       44       45       46       47       48 \n",
            "4901.508 4893.830 5288.537 5406.574 4286.856 5685.369 5535.185 5435.697 \n",
            "      49       50       51       52       53       54       55       56 \n",
            "4450.455 4955.452 4307.098 5669.355 5139.392 5368.701 4802.544 5494.199 \n",
            "      57       58       59       60       61       62       63       64 \n",
            "5509.199 4633.276 4795.020 5544.365 4505.940 4978.635 5637.548 5426.344 \n",
            "      65       66       67       68       69       70       71       72 \n",
            "4654.907 3660.156 3567.846 3924.821 3891.314 4050.983 3451.504 3485.930 \n",
            "      73       74       75       76       77       78       79       80 \n",
            "3754.190 3936.271 4121.216 4526.903 3488.605 3509.941 3600.214 3896.807 \n",
            "      81       82       83       84       85       86 \n",
            "3902.338 4186.694 4368.175 3591.964 4381.819 3737.392 \n"
          ]
        }
      ]
    },
    {
      "cell_type": "markdown",
      "metadata": {
        "id": "jfKhhgtZzwiM"
      },
      "source": [
        "**3) Create a fake test dataset for flipper_length and bill_depth_mm where each vector ranges from -50 to 50 (example below). Predict body_mass_g using the linear model with no regularization, and then using lasso. Plot the density of the predictions for each (example below).**"
      ]
    },
    {
      "cell_type": "code",
      "metadata": {
        "colab": {
          "base_uri": "https://localhost:8080/"
        },
        "id": "_S53gVGI0s_X",
        "outputId": "73e40525-1665-4350-969f-7894e9c8006a"
      },
      "source": [
        "%%R\n",
        "fake_test <- data.frame(flipper_length_mm = seq(-50, 50, 1),\n",
        "                        bill_depth_mm = seq(-50, 50, 1))\n",
        "\n",
        "head(fake_test)"
      ],
      "execution_count": 18,
      "outputs": [
        {
          "output_type": "stream",
          "name": "stdout",
          "text": [
            "  flipper_length_mm bill_depth_mm\n",
            "1               -50           -50\n",
            "2               -49           -49\n",
            "3               -48           -48\n",
            "4               -47           -47\n",
            "5               -46           -46\n",
            "6               -45           -45\n"
          ]
        }
      ]
    },
    {
      "cell_type": "code",
      "metadata": {
        "colab": {
          "base_uri": "https://localhost:8080/"
        },
        "id": "965zd82p1E_X",
        "outputId": "28d25650-838c-41d7-a6a3-1ab4c67c9fb3"
      },
      "source": [
        "%%R\n",
        "lm_model_pred = predict(lm_fit, fake_test)\n",
        "#lm_model_pred\n",
        "\n",
        "predicted_lm_df = data.frame(lm_model_pred) #lm prediction df with fake dataset\n",
        "head(predicted_lm_df,4) "
      ],
      "execution_count": 19,
      "outputs": [
        {
          "output_type": "stream",
          "name": "stdout",
          "text": [
            "  lm_model_pred\n",
            "1 -2.705718e+14\n",
            "2 -2.541386e+14\n",
            "3 -2.386087e+14\n",
            "4 -2.239379e+14\n"
          ]
        }
      ]
    },
    {
      "cell_type": "code",
      "metadata": {
        "colab": {
          "base_uri": "https://localhost:8080/",
          "height": 497
        },
        "id": "jApJB9bQ38Gs",
        "outputId": "458d8984-e464-4399-c822-aeab6e85b12b"
      },
      "source": [
        "%%R\n",
        "ggplot(predicted_lm_df, aes(lm_model_pred)) + geom_density() #density plot for fake data in linear model in ggplot"
      ],
      "execution_count": 20,
      "outputs": [
        {
          "output_type": "display_data",
          "data": {
            "image/png": "[encoded data removed]"
          },
          "metadata": {}
        }
      ]
    },
    {
      "cell_type": "code",
      "metadata": {
        "colab": {
          "base_uri": "https://localhost:8080/",
          "height": 497
        },
        "id": "J1cgHof3esvo",
        "outputId": "990c03c1-5e28-4f15-f160-21df6255fbed"
      },
      "source": [
        "%%R\n",
        "lm_model_pred = predict(lm_fit, fake_test)#density plot for fake data in linear model\n",
        "plot(density(lm_model_pred))\n"
      ],
      "execution_count": 23,
      "outputs": [
        {
          "output_type": "display_data",
          "data": {
            "image/png": "[encoded data removed]"
          },
          "metadata": {}
        }
      ]
    },
    {
      "cell_type": "code",
      "metadata": {
        "colab": {
          "base_uri": "https://localhost:8080/"
        },
        "id": "HSvurYnM2gdl",
        "outputId": "22622e1c-3c60-49c1-cce0-b7aab27f72de"
      },
      "source": [
        "%%R\n",
        "lasso_model_pred = predict(Lasso_regression, fake_test)\n",
        "#lasso_model_pred\n",
        "\n",
        "predicted_lasso_df = data.frame(lasso_model_pred)\n",
        "head(predicted_lasso_df,4)"
      ],
      "execution_count": 21,
      "outputs": [
        {
          "output_type": "stream",
          "name": "stdout",
          "text": [
            "  lasso_model_pred\n",
            "1    -603277865231\n",
            "2    -569963261229\n",
            "3    -538293409854\n",
            "4    -508196846873\n"
          ]
        }
      ]
    },
    {
      "cell_type": "code",
      "metadata": {
        "colab": {
          "base_uri": "https://localhost:8080/",
          "height": 497
        },
        "id": "R7HFZP3T3fsP",
        "outputId": "8e5b10cf-d2b2-40e7-b1f9-59cb735ec2d4"
      },
      "source": [
        "%%R\n",
        "ggplot(predicted_lasso_df, aes(lasso_model_pred)) + geom_density() #density plot for fake data in lasso model using ggplot"
      ],
      "execution_count": 22,
      "outputs": [
        {
          "output_type": "display_data",
          "data": {
            "image/png": "[encoded data removed]"
          },
          "metadata": {}
        }
      ]
    },
    {
      "cell_type": "code",
      "metadata": {
        "colab": {
          "base_uri": "https://localhost:8080/",
          "height": 497
        },
        "id": "PBBMj4lKu6Q8",
        "outputId": "ca882e56-8e7c-4992-cd74-67878563a119"
      },
      "source": [
        "%%R\n",
        "lasso_model_pred = predict(Lasso_regression, fake_test)\n",
        "plot(density(lasso_model_pred))\n",
        "#density plot for fake data in lasso model"
      ],
      "execution_count": 24,
      "outputs": [
        {
          "output_type": "display_data",
          "data": {
            "image/png": "[encoded data removed]"
          },
          "metadata": {}
        }
      ]
    },
    {
      "cell_type": "markdown",
      "metadata": {
        "id": "k3yg96WLpQmD"
      },
      "source": [
        ""
      ]
    },
    {
      "cell_type": "markdown",
      "metadata": {
        "id": "260KdJLJ6OxY"
      },
      "source": [
        "**1.4) Explain what you see when you use your fake dataset for lasso and linear regression with no regularization. Is this expected?**"
      ]
    },
    {
      "cell_type": "markdown",
      "metadata": {
        "id": "lyp5zBxg6UDu"
      },
      "source": [
        "Creating the density plot, in case of lasso regularization model we saw like the curve expanding to is pretty low from -6e+11 to a bit more than 0 and the curve is kind of skewed to the right. In case of linear model density plot I see the curve expanding to is a bit high which is from -3e+14 to more than a bit 0 and it also has a curve that is skewed towards right. Now comparing both of them you can see that the values where the curve start from is very low compared to the linear model, this could be because of the lasso model which regularizes by shrinking the data leading to less variance whereas linear model does not do that. So I guess lasso is better in regularizing data compared to linear model which I guess was expected."
      ]
    },
    {
      "cell_type": "markdown",
      "metadata": {
        "id": "30CKrCT0inST"
      },
      "source": [
        "Q2. (50 pts)\n",
        "\n",
        "1.   Download the MNIST data again. Create two datasets, one containing ones and zeros, another containing ones and sevens. \n",
        "2.   Use logistic regression to predict the classes from the two datasets. Plot ROC curves for both.\n",
        "3. For both datasets, subset the features from 784 to 300 (take the first 300 values) and repeat Q3.2. \n",
        "4. Explain any differences in performance between the four datasets (zero and one, one and seven, zero and one subset, one and seven subset)\n",
        "\n",
        "\n"
      ]
    },
    {
      "cell_type": "code",
      "metadata": {
        "id": "j40WGlgnjDms"
      },
      "source": [
        "from tensorflow.keras.datasets import mnist\n",
        "_ , (dat, lab) = mnist.load_data()"
      ],
      "execution_count": 1,
      "outputs": []
    },
    {
      "cell_type": "code",
      "metadata": {
        "id": "Pziwg-TJjEIL"
      },
      "source": [
        "dat = dat[0:1000,:,:].reshape((1000, 28*28))  # flatten the image for the convenient of downstream analysis\n",
        "lab = lab[0:1000]"
      ],
      "execution_count": 2,
      "outputs": []
    },
    {
      "cell_type": "code",
      "metadata": {
        "colab": {
          "base_uri": "https://localhost:8080/"
        },
        "id": "mcyOqNuZdm4-",
        "outputId": "b7764913-2c97-4a8d-d8be-376b451aaae1"
      },
      "source": [
        "dat.shape"
      ],
      "execution_count": 3,
      "outputs": [
        {
          "output_type": "execute_result",
          "data": {
            "text/plain": [
              "(1000, 784)"
            ]
          },
          "metadata": {},
          "execution_count": 3
        }
      ]
    },
    {
      "cell_type": "markdown",
      "metadata": {
        "id": "CE22u7TalGrq"
      },
      "source": [
        "**2.1) Download the MNIST data again. Create two datasets, one containing ones and zeros, another containing ones and sevens.**"
      ]
    },
    {
      "cell_type": "code",
      "metadata": {
        "id": "MQeohh2NlGbO"
      },
      "source": [
        "import pandas as pd\n",
        "import numpy as np"
      ],
      "execution_count": 4,
      "outputs": []
    },
    {
      "cell_type": "code",
      "metadata": {
        "colab": {
          "base_uri": "https://localhost:8080/",
          "height": 161
        },
        "id": "jvAs5exClGYJ",
        "outputId": "640c2efa-a07b-4111-9d87-7412e8e8d4a8"
      },
      "source": [
        "df_data = pd.DataFrame(dat) #creating a df of dat array\n",
        "df_data.head(2)"
      ],
      "execution_count": 8,
      "outputs": [
        {
          "output_type": "execute_result",
          "data": {
            "text/html": [
              "<div>\n",
              "<style scoped>\n",
              "    .dataframe tbody tr th:only-of-type {\n",
              "        vertical-align: middle;\n",
              "    }\n",
              "\n",
              "    .dataframe tbody tr th {\n",
              "        vertical-align: top;\n",
              "    }\n",
              "\n",
              "    .dataframe thead th {\n",
              "        text-align: right;\n",
              "    }\n",
              "</style>\n",
              "<table border=\"1\" class=\"dataframe\">\n",
              "  <thead>\n",
              "    <tr style=\"text-align: right;\">\n",
              "      <th></th>\n",
              "      <th>0</th>\n",
              "      <th>1</th>\n",
              "      <th>2</th>\n",
              "      <th>3</th>\n",
              "      <th>4</th>\n",
              "      <th>5</th>\n",
              "      <th>6</th>\n",
              "      <th>7</th>\n",
              "      <th>8</th>\n",
              "      <th>9</th>\n",
              "      <th>10</th>\n",
              "      <th>11</th>\n",
              "      <th>12</th>\n",
              "      <th>13</th>\n",
              "      <th>14</th>\n",
              "      <th>15</th>\n",
              "      <th>16</th>\n",
              "      <th>17</th>\n",
              "      <th>18</th>\n",
              "      <th>19</th>\n",
              "      <th>20</th>\n",
              "      <th>21</th>\n",
              "      <th>22</th>\n",
              "      <th>23</th>\n",
              "      <th>24</th>\n",
              "      <th>25</th>\n",
              "      <th>26</th>\n",
              "      <th>27</th>\n",
              "      <th>28</th>\n",
              "      <th>29</th>\n",
              "      <th>30</th>\n",
              "      <th>31</th>\n",
              "      <th>32</th>\n",
              "      <th>33</th>\n",
              "      <th>34</th>\n",
              "      <th>35</th>\n",
              "      <th>36</th>\n",
              "      <th>37</th>\n",
              "      <th>38</th>\n",
              "      <th>39</th>\n",
              "      <th>...</th>\n",
              "      <th>744</th>\n",
              "      <th>745</th>\n",
              "      <th>746</th>\n",
              "      <th>747</th>\n",
              "      <th>748</th>\n",
              "      <th>749</th>\n",
              "      <th>750</th>\n",
              "      <th>751</th>\n",
              "      <th>752</th>\n",
              "      <th>753</th>\n",
              "      <th>754</th>\n",
              "      <th>755</th>\n",
              "      <th>756</th>\n",
              "      <th>757</th>\n",
              "      <th>758</th>\n",
              "      <th>759</th>\n",
              "      <th>760</th>\n",
              "      <th>761</th>\n",
              "      <th>762</th>\n",
              "      <th>763</th>\n",
              "      <th>764</th>\n",
              "      <th>765</th>\n",
              "      <th>766</th>\n",
              "      <th>767</th>\n",
              "      <th>768</th>\n",
              "      <th>769</th>\n",
              "      <th>770</th>\n",
              "      <th>771</th>\n",
              "      <th>772</th>\n",
              "      <th>773</th>\n",
              "      <th>774</th>\n",
              "      <th>775</th>\n",
              "      <th>776</th>\n",
              "      <th>777</th>\n",
              "      <th>778</th>\n",
              "      <th>779</th>\n",
              "      <th>780</th>\n",
              "      <th>781</th>\n",
              "      <th>782</th>\n",
              "      <th>783</th>\n",
              "    </tr>\n",
              "  </thead>\n",
              "  <tbody>\n",
              "    <tr>\n",
              "      <th>0</th>\n",
              "      <td>0</td>\n",
              "      <td>0</td>\n",
              "      <td>0</td>\n",
              "      <td>0</td>\n",
              "      <td>0</td>\n",
              "      <td>0</td>\n",
              "      <td>0</td>\n",
              "      <td>0</td>\n",
              "      <td>0</td>\n",
              "      <td>0</td>\n",
              "      <td>0</td>\n",
              "      <td>0</td>\n",
              "      <td>0</td>\n",
              "      <td>0</td>\n",
              "      <td>0</td>\n",
              "      <td>0</td>\n",
              "      <td>0</td>\n",
              "      <td>0</td>\n",
              "      <td>0</td>\n",
              "      <td>0</td>\n",
              "      <td>0</td>\n",
              "      <td>0</td>\n",
              "      <td>0</td>\n",
              "      <td>0</td>\n",
              "      <td>0</td>\n",
              "      <td>0</td>\n",
              "      <td>0</td>\n",
              "      <td>0</td>\n",
              "      <td>0</td>\n",
              "      <td>0</td>\n",
              "      <td>0</td>\n",
              "      <td>0</td>\n",
              "      <td>0</td>\n",
              "      <td>0</td>\n",
              "      <td>0</td>\n",
              "      <td>0</td>\n",
              "      <td>0</td>\n",
              "      <td>0</td>\n",
              "      <td>0</td>\n",
              "      <td>0</td>\n",
              "      <td>...</td>\n",
              "      <td>0</td>\n",
              "      <td>0</td>\n",
              "      <td>0</td>\n",
              "      <td>0</td>\n",
              "      <td>0</td>\n",
              "      <td>0</td>\n",
              "      <td>0</td>\n",
              "      <td>0</td>\n",
              "      <td>0</td>\n",
              "      <td>0</td>\n",
              "      <td>0</td>\n",
              "      <td>0</td>\n",
              "      <td>0</td>\n",
              "      <td>0</td>\n",
              "      <td>0</td>\n",
              "      <td>0</td>\n",
              "      <td>0</td>\n",
              "      <td>0</td>\n",
              "      <td>0</td>\n",
              "      <td>0</td>\n",
              "      <td>0</td>\n",
              "      <td>0</td>\n",
              "      <td>0</td>\n",
              "      <td>0</td>\n",
              "      <td>0</td>\n",
              "      <td>0</td>\n",
              "      <td>0</td>\n",
              "      <td>0</td>\n",
              "      <td>0</td>\n",
              "      <td>0</td>\n",
              "      <td>0</td>\n",
              "      <td>0</td>\n",
              "      <td>0</td>\n",
              "      <td>0</td>\n",
              "      <td>0</td>\n",
              "      <td>0</td>\n",
              "      <td>0</td>\n",
              "      <td>0</td>\n",
              "      <td>0</td>\n",
              "      <td>0</td>\n",
              "    </tr>\n",
              "    <tr>\n",
              "      <th>1</th>\n",
              "      <td>0</td>\n",
              "      <td>0</td>\n",
              "      <td>0</td>\n",
              "      <td>0</td>\n",
              "      <td>0</td>\n",
              "      <td>0</td>\n",
              "      <td>0</td>\n",
              "      <td>0</td>\n",
              "      <td>0</td>\n",
              "      <td>0</td>\n",
              "      <td>0</td>\n",
              "      <td>0</td>\n",
              "      <td>0</td>\n",
              "      <td>0</td>\n",
              "      <td>0</td>\n",
              "      <td>0</td>\n",
              "      <td>0</td>\n",
              "      <td>0</td>\n",
              "      <td>0</td>\n",
              "      <td>0</td>\n",
              "      <td>0</td>\n",
              "      <td>0</td>\n",
              "      <td>0</td>\n",
              "      <td>0</td>\n",
              "      <td>0</td>\n",
              "      <td>0</td>\n",
              "      <td>0</td>\n",
              "      <td>0</td>\n",
              "      <td>0</td>\n",
              "      <td>0</td>\n",
              "      <td>0</td>\n",
              "      <td>0</td>\n",
              "      <td>0</td>\n",
              "      <td>0</td>\n",
              "      <td>0</td>\n",
              "      <td>0</td>\n",
              "      <td>0</td>\n",
              "      <td>0</td>\n",
              "      <td>0</td>\n",
              "      <td>0</td>\n",
              "      <td>...</td>\n",
              "      <td>0</td>\n",
              "      <td>0</td>\n",
              "      <td>0</td>\n",
              "      <td>0</td>\n",
              "      <td>0</td>\n",
              "      <td>0</td>\n",
              "      <td>0</td>\n",
              "      <td>0</td>\n",
              "      <td>0</td>\n",
              "      <td>0</td>\n",
              "      <td>0</td>\n",
              "      <td>0</td>\n",
              "      <td>0</td>\n",
              "      <td>0</td>\n",
              "      <td>0</td>\n",
              "      <td>0</td>\n",
              "      <td>0</td>\n",
              "      <td>0</td>\n",
              "      <td>0</td>\n",
              "      <td>0</td>\n",
              "      <td>0</td>\n",
              "      <td>0</td>\n",
              "      <td>0</td>\n",
              "      <td>0</td>\n",
              "      <td>0</td>\n",
              "      <td>0</td>\n",
              "      <td>0</td>\n",
              "      <td>0</td>\n",
              "      <td>0</td>\n",
              "      <td>0</td>\n",
              "      <td>0</td>\n",
              "      <td>0</td>\n",
              "      <td>0</td>\n",
              "      <td>0</td>\n",
              "      <td>0</td>\n",
              "      <td>0</td>\n",
              "      <td>0</td>\n",
              "      <td>0</td>\n",
              "      <td>0</td>\n",
              "      <td>0</td>\n",
              "    </tr>\n",
              "  </tbody>\n",
              "</table>\n",
              "<p>2 rows × 784 columns</p>\n",
              "</div>"
            ],
            "text/plain": [
              "   0    1    2    3    4    5    6    ...  777  778  779  780  781  782  783\n",
              "0    0    0    0    0    0    0    0  ...    0    0    0    0    0    0    0\n",
              "1    0    0    0    0    0    0    0  ...    0    0    0    0    0    0    0\n",
              "\n",
              "[2 rows x 784 columns]"
            ]
          },
          "metadata": {},
          "execution_count": 8
        }
      ]
    },
    {
      "cell_type": "code",
      "metadata": {
        "colab": {
          "base_uri": "https://localhost:8080/",
          "height": 112
        },
        "id": "O93oWsL4lGVB",
        "outputId": "95e291f2-4d4f-40da-b181-8c9f8129eba2"
      },
      "source": [
        "df_label = pd.DataFrame(lab)\n",
        "df_label.columns = [\"labels\"] #creating a df of labels\n",
        "df_label.head(2)"
      ],
      "execution_count": 9,
      "outputs": [
        {
          "output_type": "execute_result",
          "data": {
            "text/html": [
              "<div>\n",
              "<style scoped>\n",
              "    .dataframe tbody tr th:only-of-type {\n",
              "        vertical-align: middle;\n",
              "    }\n",
              "\n",
              "    .dataframe tbody tr th {\n",
              "        vertical-align: top;\n",
              "    }\n",
              "\n",
              "    .dataframe thead th {\n",
              "        text-align: right;\n",
              "    }\n",
              "</style>\n",
              "<table border=\"1\" class=\"dataframe\">\n",
              "  <thead>\n",
              "    <tr style=\"text-align: right;\">\n",
              "      <th></th>\n",
              "      <th>labels</th>\n",
              "    </tr>\n",
              "  </thead>\n",
              "  <tbody>\n",
              "    <tr>\n",
              "      <th>0</th>\n",
              "      <td>7</td>\n",
              "    </tr>\n",
              "    <tr>\n",
              "      <th>1</th>\n",
              "      <td>2</td>\n",
              "    </tr>\n",
              "  </tbody>\n",
              "</table>\n",
              "</div>"
            ],
            "text/plain": [
              "   labels\n",
              "0       7\n",
              "1       2"
            ]
          },
          "metadata": {},
          "execution_count": 9
        }
      ]
    },
    {
      "cell_type": "code",
      "metadata": {
        "colab": {
          "base_uri": "https://localhost:8080/",
          "height": 161
        },
        "id": "Y6V6Yk48lGSE",
        "outputId": "1c41b612-fc5b-477f-f52c-a4538566407d"
      },
      "source": [
        "result_data_df = pd.concat([df_label, df_data], axis=1, join='inner')\n",
        "result_data_df.head(2) #merging the data table and labels table into one"
      ],
      "execution_count": 10,
      "outputs": [
        {
          "output_type": "execute_result",
          "data": {
            "text/html": [
              "<div>\n",
              "<style scoped>\n",
              "    .dataframe tbody tr th:only-of-type {\n",
              "        vertical-align: middle;\n",
              "    }\n",
              "\n",
              "    .dataframe tbody tr th {\n",
              "        vertical-align: top;\n",
              "    }\n",
              "\n",
              "    .dataframe thead th {\n",
              "        text-align: right;\n",
              "    }\n",
              "</style>\n",
              "<table border=\"1\" class=\"dataframe\">\n",
              "  <thead>\n",
              "    <tr style=\"text-align: right;\">\n",
              "      <th></th>\n",
              "      <th>labels</th>\n",
              "      <th>0</th>\n",
              "      <th>1</th>\n",
              "      <th>2</th>\n",
              "      <th>3</th>\n",
              "      <th>4</th>\n",
              "      <th>5</th>\n",
              "      <th>6</th>\n",
              "      <th>7</th>\n",
              "      <th>8</th>\n",
              "      <th>9</th>\n",
              "      <th>10</th>\n",
              "      <th>11</th>\n",
              "      <th>12</th>\n",
              "      <th>13</th>\n",
              "      <th>14</th>\n",
              "      <th>15</th>\n",
              "      <th>16</th>\n",
              "      <th>17</th>\n",
              "      <th>18</th>\n",
              "      <th>19</th>\n",
              "      <th>20</th>\n",
              "      <th>21</th>\n",
              "      <th>22</th>\n",
              "      <th>23</th>\n",
              "      <th>24</th>\n",
              "      <th>25</th>\n",
              "      <th>26</th>\n",
              "      <th>27</th>\n",
              "      <th>28</th>\n",
              "      <th>29</th>\n",
              "      <th>30</th>\n",
              "      <th>31</th>\n",
              "      <th>32</th>\n",
              "      <th>33</th>\n",
              "      <th>34</th>\n",
              "      <th>35</th>\n",
              "      <th>36</th>\n",
              "      <th>37</th>\n",
              "      <th>38</th>\n",
              "      <th>...</th>\n",
              "      <th>744</th>\n",
              "      <th>745</th>\n",
              "      <th>746</th>\n",
              "      <th>747</th>\n",
              "      <th>748</th>\n",
              "      <th>749</th>\n",
              "      <th>750</th>\n",
              "      <th>751</th>\n",
              "      <th>752</th>\n",
              "      <th>753</th>\n",
              "      <th>754</th>\n",
              "      <th>755</th>\n",
              "      <th>756</th>\n",
              "      <th>757</th>\n",
              "      <th>758</th>\n",
              "      <th>759</th>\n",
              "      <th>760</th>\n",
              "      <th>761</th>\n",
              "      <th>762</th>\n",
              "      <th>763</th>\n",
              "      <th>764</th>\n",
              "      <th>765</th>\n",
              "      <th>766</th>\n",
              "      <th>767</th>\n",
              "      <th>768</th>\n",
              "      <th>769</th>\n",
              "      <th>770</th>\n",
              "      <th>771</th>\n",
              "      <th>772</th>\n",
              "      <th>773</th>\n",
              "      <th>774</th>\n",
              "      <th>775</th>\n",
              "      <th>776</th>\n",
              "      <th>777</th>\n",
              "      <th>778</th>\n",
              "      <th>779</th>\n",
              "      <th>780</th>\n",
              "      <th>781</th>\n",
              "      <th>782</th>\n",
              "      <th>783</th>\n",
              "    </tr>\n",
              "  </thead>\n",
              "  <tbody>\n",
              "    <tr>\n",
              "      <th>0</th>\n",
              "      <td>7</td>\n",
              "      <td>0</td>\n",
              "      <td>0</td>\n",
              "      <td>0</td>\n",
              "      <td>0</td>\n",
              "      <td>0</td>\n",
              "      <td>0</td>\n",
              "      <td>0</td>\n",
              "      <td>0</td>\n",
              "      <td>0</td>\n",
              "      <td>0</td>\n",
              "      <td>0</td>\n",
              "      <td>0</td>\n",
              "      <td>0</td>\n",
              "      <td>0</td>\n",
              "      <td>0</td>\n",
              "      <td>0</td>\n",
              "      <td>0</td>\n",
              "      <td>0</td>\n",
              "      <td>0</td>\n",
              "      <td>0</td>\n",
              "      <td>0</td>\n",
              "      <td>0</td>\n",
              "      <td>0</td>\n",
              "      <td>0</td>\n",
              "      <td>0</td>\n",
              "      <td>0</td>\n",
              "      <td>0</td>\n",
              "      <td>0</td>\n",
              "      <td>0</td>\n",
              "      <td>0</td>\n",
              "      <td>0</td>\n",
              "      <td>0</td>\n",
              "      <td>0</td>\n",
              "      <td>0</td>\n",
              "      <td>0</td>\n",
              "      <td>0</td>\n",
              "      <td>0</td>\n",
              "      <td>0</td>\n",
              "      <td>0</td>\n",
              "      <td>...</td>\n",
              "      <td>0</td>\n",
              "      <td>0</td>\n",
              "      <td>0</td>\n",
              "      <td>0</td>\n",
              "      <td>0</td>\n",
              "      <td>0</td>\n",
              "      <td>0</td>\n",
              "      <td>0</td>\n",
              "      <td>0</td>\n",
              "      <td>0</td>\n",
              "      <td>0</td>\n",
              "      <td>0</td>\n",
              "      <td>0</td>\n",
              "      <td>0</td>\n",
              "      <td>0</td>\n",
              "      <td>0</td>\n",
              "      <td>0</td>\n",
              "      <td>0</td>\n",
              "      <td>0</td>\n",
              "      <td>0</td>\n",
              "      <td>0</td>\n",
              "      <td>0</td>\n",
              "      <td>0</td>\n",
              "      <td>0</td>\n",
              "      <td>0</td>\n",
              "      <td>0</td>\n",
              "      <td>0</td>\n",
              "      <td>0</td>\n",
              "      <td>0</td>\n",
              "      <td>0</td>\n",
              "      <td>0</td>\n",
              "      <td>0</td>\n",
              "      <td>0</td>\n",
              "      <td>0</td>\n",
              "      <td>0</td>\n",
              "      <td>0</td>\n",
              "      <td>0</td>\n",
              "      <td>0</td>\n",
              "      <td>0</td>\n",
              "      <td>0</td>\n",
              "    </tr>\n",
              "    <tr>\n",
              "      <th>1</th>\n",
              "      <td>2</td>\n",
              "      <td>0</td>\n",
              "      <td>0</td>\n",
              "      <td>0</td>\n",
              "      <td>0</td>\n",
              "      <td>0</td>\n",
              "      <td>0</td>\n",
              "      <td>0</td>\n",
              "      <td>0</td>\n",
              "      <td>0</td>\n",
              "      <td>0</td>\n",
              "      <td>0</td>\n",
              "      <td>0</td>\n",
              "      <td>0</td>\n",
              "      <td>0</td>\n",
              "      <td>0</td>\n",
              "      <td>0</td>\n",
              "      <td>0</td>\n",
              "      <td>0</td>\n",
              "      <td>0</td>\n",
              "      <td>0</td>\n",
              "      <td>0</td>\n",
              "      <td>0</td>\n",
              "      <td>0</td>\n",
              "      <td>0</td>\n",
              "      <td>0</td>\n",
              "      <td>0</td>\n",
              "      <td>0</td>\n",
              "      <td>0</td>\n",
              "      <td>0</td>\n",
              "      <td>0</td>\n",
              "      <td>0</td>\n",
              "      <td>0</td>\n",
              "      <td>0</td>\n",
              "      <td>0</td>\n",
              "      <td>0</td>\n",
              "      <td>0</td>\n",
              "      <td>0</td>\n",
              "      <td>0</td>\n",
              "      <td>0</td>\n",
              "      <td>...</td>\n",
              "      <td>0</td>\n",
              "      <td>0</td>\n",
              "      <td>0</td>\n",
              "      <td>0</td>\n",
              "      <td>0</td>\n",
              "      <td>0</td>\n",
              "      <td>0</td>\n",
              "      <td>0</td>\n",
              "      <td>0</td>\n",
              "      <td>0</td>\n",
              "      <td>0</td>\n",
              "      <td>0</td>\n",
              "      <td>0</td>\n",
              "      <td>0</td>\n",
              "      <td>0</td>\n",
              "      <td>0</td>\n",
              "      <td>0</td>\n",
              "      <td>0</td>\n",
              "      <td>0</td>\n",
              "      <td>0</td>\n",
              "      <td>0</td>\n",
              "      <td>0</td>\n",
              "      <td>0</td>\n",
              "      <td>0</td>\n",
              "      <td>0</td>\n",
              "      <td>0</td>\n",
              "      <td>0</td>\n",
              "      <td>0</td>\n",
              "      <td>0</td>\n",
              "      <td>0</td>\n",
              "      <td>0</td>\n",
              "      <td>0</td>\n",
              "      <td>0</td>\n",
              "      <td>0</td>\n",
              "      <td>0</td>\n",
              "      <td>0</td>\n",
              "      <td>0</td>\n",
              "      <td>0</td>\n",
              "      <td>0</td>\n",
              "      <td>0</td>\n",
              "    </tr>\n",
              "  </tbody>\n",
              "</table>\n",
              "<p>2 rows × 785 columns</p>\n",
              "</div>"
            ],
            "text/plain": [
              "   labels  0  1  2  3  4  5  6  7  ...  775  776  777  778  779  780  781  782  783\n",
              "0       7  0  0  0  0  0  0  0  0  ...    0    0    0    0    0    0    0    0    0\n",
              "1       2  0  0  0  0  0  0  0  0  ...    0    0    0    0    0    0    0    0    0\n",
              "\n",
              "[2 rows x 785 columns]"
            ]
          },
          "metadata": {},
          "execution_count": 10
        }
      ]
    },
    {
      "cell_type": "code",
      "metadata": {
        "colab": {
          "base_uri": "https://localhost:8080/"
        },
        "id": "WFhPaSgnzZTm",
        "outputId": "35e5ec5c-8d07-4698-b6c5-98f19fa24ef0"
      },
      "source": [
        "data_0_1_df = result_data_df.loc[(result_data_df['labels'] == 0) | (result_data_df['labels'] == 1)] #filtering out rows that have only 0 & 1 as labels\n",
        "data_0_1_df.shape"
      ],
      "execution_count": 11,
      "outputs": [
        {
          "output_type": "execute_result",
          "data": {
            "text/plain": [
              "(211, 785)"
            ]
          },
          "metadata": {},
          "execution_count": 11
        }
      ]
    },
    {
      "cell_type": "code",
      "metadata": {
        "colab": {
          "base_uri": "https://localhost:8080/"
        },
        "id": "zIS-qpUg03iY",
        "outputId": "a4c0de8d-c974-4482-bfb5-c2a08dc87a3c"
      },
      "source": [
        "data_0_1_labels = pd.DataFrame(data_0_1_df[\"labels\"].copy())\n",
        "data_0_1_labels.shape #keeping a copy of the label column for 0 and 1"
      ],
      "execution_count": 12,
      "outputs": [
        {
          "output_type": "execute_result",
          "data": {
            "text/plain": [
              "(211, 1)"
            ]
          },
          "metadata": {},
          "execution_count": 12
        }
      ]
    },
    {
      "cell_type": "code",
      "metadata": {
        "colab": {
          "base_uri": "https://localhost:8080/"
        },
        "id": "XpR-3m1G1W92",
        "outputId": "9a387db6-4c54-42bf-a46f-741a70725553"
      },
      "source": [
        "data_0_1_filter = data_0_1_df.drop([\"labels\"], axis=1) #dropping the label column\n",
        "data_0_1_filter.shape #dat data for 0 & 1"
      ],
      "execution_count": 13,
      "outputs": [
        {
          "output_type": "execute_result",
          "data": {
            "text/plain": [
              "(211, 784)"
            ]
          },
          "metadata": {},
          "execution_count": 13
        }
      ]
    },
    {
      "cell_type": "code",
      "metadata": {
        "colab": {
          "base_uri": "https://localhost:8080/"
        },
        "id": "DMqoXqFYzwyP",
        "outputId": "62895653-788e-40cd-b49c-ad45b57ce8fa"
      },
      "source": [
        "data_1_7_df = result_data_df.loc[(result_data_df['labels'] == 1) | (result_data_df['labels'] == 7)] #filtering out rows that have only 1 & 7 as labels\n",
        "data_1_7_df.shape"
      ],
      "execution_count": 14,
      "outputs": [
        {
          "output_type": "execute_result",
          "data": {
            "text/plain": [
              "(225, 785)"
            ]
          },
          "metadata": {},
          "execution_count": 14
        }
      ]
    },
    {
      "cell_type": "code",
      "metadata": {
        "colab": {
          "base_uri": "https://localhost:8080/"
        },
        "id": "6KCuEfRi1v47",
        "outputId": "427becf2-30ed-4e35-ed28-43c01cfd6139"
      },
      "source": [
        "data_1_7_labels = pd.DataFrame(data_1_7_df[\"labels\"].copy())\n",
        "data_1_7_labels.shape #keeping a copy of the label column for 1 and 7"
      ],
      "execution_count": 15,
      "outputs": [
        {
          "output_type": "execute_result",
          "data": {
            "text/plain": [
              "(225, 1)"
            ]
          },
          "metadata": {},
          "execution_count": 15
        }
      ]
    },
    {
      "cell_type": "code",
      "metadata": {
        "colab": {
          "base_uri": "https://localhost:8080/"
        },
        "id": "FQRQ0zTe16td",
        "outputId": "31826ff4-e91e-4399-a381-1b344049cfaa"
      },
      "source": [
        "data_1_7_filter = data_1_7_df.drop([\"labels\"], axis=1) #dropping the label column\n",
        "data_1_7_filter.shape #dat data for 1 & 7"
      ],
      "execution_count": 16,
      "outputs": [
        {
          "output_type": "execute_result",
          "data": {
            "text/plain": [
              "(225, 784)"
            ]
          },
          "metadata": {},
          "execution_count": 16
        }
      ]
    },
    {
      "cell_type": "markdown",
      "metadata": {
        "id": "wKkHcuVs4t20"
      },
      "source": [
        "**2.2) Use logistic regression to predict the classes from the two datasets. Plot ROC curves for both.**"
      ]
    },
    {
      "cell_type": "code",
      "metadata": {
        "id": "K238n_3m03fl"
      },
      "source": [
        "from sklearn.linear_model import LogisticRegressionCV\n",
        "import pandas as pd\n",
        "from sklearn.model_selection import train_test_split"
      ],
      "execution_count": 17,
      "outputs": []
    },
    {
      "cell_type": "markdown",
      "metadata": {
        "id": "0NOrw7-bWwe8"
      },
      "source": [
        "**For 0 & 1:**"
      ]
    },
    {
      "cell_type": "code",
      "metadata": {
        "id": "MhS-lDZRFCCe"
      },
      "source": [
        "#Train-test split for 0 & 1\n",
        "x_train_0_1, x_test_0_1, y_train_0_1, y_test_0_1 = train_test_split(data_0_1_filter, data_0_1_labels, test_size=0.25, random_state=40)"
      ],
      "execution_count": 18,
      "outputs": []
    },
    {
      "cell_type": "code",
      "metadata": {
        "id": "tXn0LILd03Zc"
      },
      "source": [
        "#converting to numpy array\n",
        "x_train_0_1 = np.array(x_train_0_1)\n",
        "x_test_0_1 = np.array(x_test_0_1)\n",
        "y_train_0_1 = np.array(y_train_0_1)\n",
        "y_test_0_1 = np.array(y_test_0_1)"
      ],
      "execution_count": 19,
      "outputs": []
    },
    {
      "cell_type": "code",
      "metadata": {
        "colab": {
          "base_uri": "https://localhost:8080/"
        },
        "id": "BXxN6RKi03cZ",
        "outputId": "9f48b3b2-750c-4a81-e378-d4b1ac72b259"
      },
      "source": [
        "logistic_regression = LogisticRegressionCV(cv=5, random_state=20) #fitting logistic regression for 0 and 1\n",
        "lr_fit_0_1 = logistic_regression.fit(x_train_0_1, y_train_0_1)\n",
        "predict_0_1 = lr_fit_0_1.predict(x_test_0_1) #predicting the model\n",
        "predict_0_1 #predicted value"
      ],
      "execution_count": 20,
      "outputs": [
        {
          "output_type": "stream",
          "name": "stderr",
          "text": [
            "/usr/local/lib/python3.7/dist-packages/sklearn/utils/validation.py:760: DataConversionWarning: A column-vector y was passed when a 1d array was expected. Please change the shape of y to (n_samples, ), for example using ravel().\n",
            "  y = column_or_1d(y, warn=True)\n"
          ]
        },
        {
          "output_type": "execute_result",
          "data": {
            "text/plain": [
              "array([0, 1, 1, 1, 1, 0, 1, 0, 1, 1, 0, 1, 1, 0, 1, 1, 0, 1, 1, 0, 1, 1,\n",
              "       1, 1, 0, 1, 1, 1, 0, 1, 1, 0, 1, 0, 1, 0, 1, 1, 1, 1, 0, 1, 0, 0,\n",
              "       0, 1, 1, 0, 0, 0, 0, 0, 0], dtype=uint8)"
            ]
          },
          "metadata": {},
          "execution_count": 20
        }
      ]
    },
    {
      "cell_type": "code",
      "metadata": {
        "colab": {
          "base_uri": "https://localhost:8080/"
        },
        "id": "ewybKI5wRhTT",
        "outputId": "8718684c-6a9d-4169-ba5a-eec1aca687e1"
      },
      "source": [
        "y_test_0_1 #true value"
      ],
      "execution_count": 21,
      "outputs": [
        {
          "output_type": "execute_result",
          "data": {
            "text/plain": [
              "array([[0],\n",
              "       [1],\n",
              "       [1],\n",
              "       [1],\n",
              "       [1],\n",
              "       [0],\n",
              "       [1],\n",
              "       [0],\n",
              "       [1],\n",
              "       [1],\n",
              "       [0],\n",
              "       [1],\n",
              "       [1],\n",
              "       [0],\n",
              "       [1],\n",
              "       [1],\n",
              "       [0],\n",
              "       [1],\n",
              "       [1],\n",
              "       [0],\n",
              "       [1],\n",
              "       [1],\n",
              "       [1],\n",
              "       [1],\n",
              "       [0],\n",
              "       [1],\n",
              "       [1],\n",
              "       [1],\n",
              "       [0],\n",
              "       [1],\n",
              "       [1],\n",
              "       [0],\n",
              "       [1],\n",
              "       [0],\n",
              "       [1],\n",
              "       [0],\n",
              "       [1],\n",
              "       [1],\n",
              "       [1],\n",
              "       [1],\n",
              "       [0],\n",
              "       [1],\n",
              "       [0],\n",
              "       [0],\n",
              "       [0],\n",
              "       [1],\n",
              "       [1],\n",
              "       [0],\n",
              "       [0],\n",
              "       [0],\n",
              "       [0],\n",
              "       [0],\n",
              "       [0]], dtype=uint8)"
            ]
          },
          "metadata": {},
          "execution_count": 21
        }
      ]
    },
    {
      "cell_type": "code",
      "metadata": {
        "colab": {
          "base_uri": "https://localhost:8080/"
        },
        "id": "55NaCvClSywD",
        "outputId": "59acdc15-8991-4c33-a419-3e451d2f9779"
      },
      "source": [
        "from sklearn.metrics import recall_score\n",
        "from sklearn.metrics import accuracy_score\n",
        "from sklearn.metrics import precision_score\n",
        "from sklearn.metrics import roc_auc_score\n",
        "\n",
        "print(\"accuracy for 0 & 1:\",accuracy_score(y_test_0_1, predict_0_1)) #accuracy score\n",
        "print(\"recall for 0 & 1:\", recall_score(y_test_0_1, predict_0_1)) #precision score\n",
        "print(\"precision for 0 & 1:\",precision_score(y_test_0_1, predict_0_1)) #recall score"
      ],
      "execution_count": 22,
      "outputs": [
        {
          "output_type": "stream",
          "name": "stdout",
          "text": [
            "accuracy for 0 & 1: 1.0\n",
            "recall for 0 & 1: 1.0\n",
            "precision for 0 & 1: 1.0\n"
          ]
        }
      ]
    },
    {
      "cell_type": "code",
      "metadata": {
        "colab": {
          "base_uri": "https://localhost:8080/"
        },
        "id": "y0FpDZPwTtUL",
        "outputId": "cf326a2d-c632-442f-d54d-af82c68e0433"
      },
      "source": [
        "import matplotlib.pyplot as plt\n",
        "from sklearn.metrics import roc_curve, auc\n",
        "\n",
        "test = y_test_0_1\n",
        "pred = logistic_regression.predict_proba(x_test_0_1)[:, 1] #defining for AUC plot and score\n",
        "print('roc_auc_score for Logistic regression: ', roc_auc_score(test, pred))\n",
        "\n",
        "# assign fpr, tpr\n",
        "fpr, tpr, threshold = roc_curve(test, pred)\n",
        "\n",
        "auc_df = pd.DataFrame([fpr,tpr]).T\n",
        "auc_df.columns = [\"fpr\", \"tpr\"]"
      ],
      "execution_count": 23,
      "outputs": [
        {
          "output_type": "stream",
          "name": "stdout",
          "text": [
            "roc_auc_score for Logistic regression:  1.0\n"
          ]
        }
      ]
    },
    {
      "cell_type": "code",
      "metadata": {
        "colab": {
          "base_uri": "https://localhost:8080/",
          "height": 295
        },
        "id": "dEsuY_fKWmDZ",
        "outputId": "92f39b23-45d4-485f-dd3e-f9aa8a7d54c0"
      },
      "source": [
        "plt.title('Receiver Operating Characteristic')\n",
        "plt.plot(fpr, tpr, 'b', label = 'AUC = %0.4f' % roc_auc_score(test, pred)) #plotting AUC\n",
        "plt.legend(loc = 'lower right')\n",
        "plt.plot([-0.1, 1], [-0.1, 1],'r--')\n",
        "plt.xlim([-0.1, 1])\n",
        "plt.ylim([0, 1])\n",
        "plt.ylabel('True Positive Rate')\n",
        "plt.xlabel('False Positive Rate')\n",
        "plt.show()"
      ],
      "execution_count": 24,
      "outputs": [
        {
          "output_type": "display_data",
          "data": {
            "image/png": "[encoded data removed]",
            "text/plain": [
              "<Figure size 432x288 with 1 Axes>"
            ]
          },
          "metadata": {
            "needs_background": "light"
          }
        }
      ]
    },
    {
      "cell_type": "markdown",
      "metadata": {
        "id": "m3LzoIUZW5Nj"
      },
      "source": [
        "**For 1 & 7:**"
      ]
    },
    {
      "cell_type": "code",
      "metadata": {
        "id": "vuBV6YOaW3nE"
      },
      "source": [
        "#Train-test split for 1 & 7\n",
        "x_train_1_7, x_test_1_7, y_train_1_7, y_test_1_7 = train_test_split(data_1_7_filter, data_1_7_labels, test_size=0.25, random_state=40)"
      ],
      "execution_count": 25,
      "outputs": []
    },
    {
      "cell_type": "code",
      "metadata": {
        "id": "eHayBNnoXLI3"
      },
      "source": [
        "x_train_1_7 = np.array(x_train_1_7)\n",
        "x_test_1_7 = np.array(x_test_1_7)\n",
        "y_train_1_7 = np.array(y_train_1_7)\n",
        "y_test_1_7 = np.array(y_test_1_7)"
      ],
      "execution_count": 26,
      "outputs": []
    },
    {
      "cell_type": "code",
      "metadata": {
        "colab": {
          "base_uri": "https://localhost:8080/"
        },
        "id": "LtfkqGpHXLGb",
        "outputId": "5ca3478a-24b6-4220-b338-8f3748fe5e1a"
      },
      "source": [
        "logistic_regression = LogisticRegressionCV(cv=5, random_state=20)\n",
        "lr_fit_1_7 = logistic_regression.fit(x_train_1_7, y_train_1_7) #fitting logistic regression for 1 & 7\n",
        "predict_1_7 = lr_fit_1_7.predict(x_test_1_7) #predicting the model\n",
        "predict_1_7 #predicted data"
      ],
      "execution_count": 27,
      "outputs": [
        {
          "output_type": "stream",
          "name": "stderr",
          "text": [
            "/usr/local/lib/python3.7/dist-packages/sklearn/utils/validation.py:760: DataConversionWarning: A column-vector y was passed when a 1d array was expected. Please change the shape of y to (n_samples, ), for example using ravel().\n",
            "  y = column_or_1d(y, warn=True)\n"
          ]
        },
        {
          "output_type": "execute_result",
          "data": {
            "text/plain": [
              "array([7, 1, 1, 1, 7, 1, 7, 1, 7, 1, 1, 1, 1, 1, 7, 1, 7, 1, 7, 1, 7, 7,\n",
              "       1, 1, 1, 1, 1, 1, 1, 1, 7, 7, 7, 1, 1, 1, 7, 1, 1, 7, 7, 7, 7, 7,\n",
              "       1, 1, 7, 7, 1, 7, 7, 1, 1, 1, 7, 1, 7], dtype=uint8)"
            ]
          },
          "metadata": {},
          "execution_count": 27
        }
      ]
    },
    {
      "cell_type": "code",
      "metadata": {
        "colab": {
          "base_uri": "https://localhost:8080/"
        },
        "id": "OCZLqJ-cXLDS",
        "outputId": "13b1837e-9b22-4562-baf0-957ad9f60c2f"
      },
      "source": [
        "y_test_1_7 #true values"
      ],
      "execution_count": 28,
      "outputs": [
        {
          "output_type": "execute_result",
          "data": {
            "text/plain": [
              "array([[7],\n",
              "       [1],\n",
              "       [1],\n",
              "       [1],\n",
              "       [7],\n",
              "       [1],\n",
              "       [7],\n",
              "       [1],\n",
              "       [7],\n",
              "       [1],\n",
              "       [1],\n",
              "       [1],\n",
              "       [1],\n",
              "       [1],\n",
              "       [7],\n",
              "       [1],\n",
              "       [7],\n",
              "       [1],\n",
              "       [7],\n",
              "       [1],\n",
              "       [7],\n",
              "       [7],\n",
              "       [1],\n",
              "       [1],\n",
              "       [1],\n",
              "       [1],\n",
              "       [1],\n",
              "       [1],\n",
              "       [1],\n",
              "       [1],\n",
              "       [7],\n",
              "       [7],\n",
              "       [7],\n",
              "       [1],\n",
              "       [1],\n",
              "       [1],\n",
              "       [7],\n",
              "       [1],\n",
              "       [1],\n",
              "       [7],\n",
              "       [7],\n",
              "       [7],\n",
              "       [7],\n",
              "       [7],\n",
              "       [1],\n",
              "       [1],\n",
              "       [7],\n",
              "       [7],\n",
              "       [7],\n",
              "       [7],\n",
              "       [7],\n",
              "       [1],\n",
              "       [1],\n",
              "       [1],\n",
              "       [7],\n",
              "       [1],\n",
              "       [7]], dtype=uint8)"
            ]
          },
          "metadata": {},
          "execution_count": 28
        }
      ]
    },
    {
      "cell_type": "code",
      "metadata": {
        "colab": {
          "base_uri": "https://localhost:8080/"
        },
        "id": "xaQMZ9hqXLAN",
        "outputId": "a9694f25-77ce-4f84-c702-085e43b24af4"
      },
      "source": [
        "print(\"accuracy for 1 & 7:\",accuracy_score(y_test_1_7, predict_1_7)) #accuracy score\n",
        "print(\"recall for 1 & 7:\", recall_score(y_test_1_7, predict_1_7)) #recall score\n",
        "print(\"precision for 1 & 7:\",precision_score(y_test_1_7, predict_1_7)) #precision score"
      ],
      "execution_count": 29,
      "outputs": [
        {
          "output_type": "stream",
          "name": "stdout",
          "text": [
            "accuracy for 1 & 7: 0.9824561403508771\n",
            "recall for 1 & 7: 1.0\n",
            "precision for 1 & 7: 0.9696969696969697\n"
          ]
        }
      ]
    },
    {
      "cell_type": "code",
      "metadata": {
        "colab": {
          "base_uri": "https://localhost:8080/"
        },
        "id": "wxC0e0_rXK9R",
        "outputId": "e0acdbbd-e13d-487b-aa38-d249f612d740"
      },
      "source": [
        "test_1_7 = y_test_1_7\n",
        "pred_1_7 = logistic_regression.predict_proba(x_test_1_7)[:, 1] #defining for use in AUC plot and score\n",
        "print('roc_auc_score for Logistic regression of 1 & 7 is : ', roc_auc_score(y_test_1_7, pred_1_7)) #auc score\n",
        "\n",
        "# assign fpr, tpr\n",
        "fpr_1_7, tpr_1_7, threshold_1_7 = roc_curve(test_1_7, pred_1_7, pos_label=7)\n",
        "\n",
        "auc_df1 = pd.DataFrame([fpr_1_7,tpr_1_7]).T\n",
        "auc_df1.columns = [\"fpr\", \"tpr\"]"
      ],
      "execution_count": 30,
      "outputs": [
        {
          "output_type": "stream",
          "name": "stdout",
          "text": [
            "roc_auc_score for Logistic regression of 1 & 7 is :  0.99875\n"
          ]
        }
      ]
    },
    {
      "cell_type": "code",
      "metadata": {
        "colab": {
          "base_uri": "https://localhost:8080/",
          "height": 295
        },
        "id": "BXn8CALdXK5-",
        "outputId": "a4378653-5a5f-4378-c4ca-8d3c2d650270"
      },
      "source": [
        "#ROC plot\n",
        "plt.title('Receiver Operating Characteristic')\n",
        "plt.plot(fpr_1_7, tpr_1_7, 'b', label = 'AUC = %0.4f' % roc_auc_score(y_test_1_7, pred_1_7)) #plotting the auc\n",
        "plt.legend(loc = 'lower right')\n",
        "plt.plot([-0.1, 1], [-0.1, 1],'r--')\n",
        "plt.xlim([-0.1, 1])\n",
        "plt.ylim([0, 1])\n",
        "plt.ylabel('True Positive Rate')\n",
        "plt.xlabel('False Positive Rate')\n",
        "plt.show()\n",
        "\n"
      ],
      "execution_count": 31,
      "outputs": [
        {
          "output_type": "display_data",
          "data": {
            "image/png": "[encoded data removed]",
            "text/plain": [
              "<Figure size 432x288 with 1 Axes>"
            ]
          },
          "metadata": {
            "needs_background": "light"
          }
        }
      ]
    },
    {
      "cell_type": "markdown",
      "metadata": {
        "id": "FD5E1bv1dN9G"
      },
      "source": [
        "**2.3) For both datasets, subset the features from 784 to 300 (take the first 300 values) and repeat Q3.2.** "
      ]
    },
    {
      "cell_type": "code",
      "metadata": {
        "colab": {
          "base_uri": "https://localhost:8080/"
        },
        "id": "b0qHmkjnmFQO",
        "outputId": "1787d621-2ab0-4eba-e919-d0a14a5bd807"
      },
      "source": [
        "dat = dat[:, 0:300] # subsetting for Q3.3\n",
        "dat.shape"
      ],
      "execution_count": 5,
      "outputs": [
        {
          "output_type": "execute_result",
          "data": {
            "text/plain": [
              "(1000, 300)"
            ]
          },
          "metadata": {},
          "execution_count": 5
        }
      ]
    },
    {
      "cell_type": "code",
      "metadata": {
        "id": "jXsrO-LGhrTZ"
      },
      "source": [
        "#import all the datasets\n",
        "import pandas as pd\n",
        "import numpy as np\n",
        "from sklearn.linear_model import LogisticRegressionCV\n",
        "import pandas as pd\n",
        "from sklearn.model_selection import train_test_split\n",
        "from sklearn.metrics import recall_score\n",
        "from sklearn.metrics import accuracy_score\n",
        "from sklearn.metrics import precision_score\n",
        "from sklearn.metrics import roc_auc_score\n",
        "import matplotlib.pyplot as plt\n",
        "from sklearn.metrics import roc_curve, auc"
      ],
      "execution_count": 6,
      "outputs": []
    },
    {
      "cell_type": "code",
      "metadata": {
        "colab": {
          "base_uri": "https://localhost:8080/",
          "height": 161
        },
        "id": "cfPhmhY_dNvX",
        "outputId": "76da993e-ebdf-43b7-f058-54d15055d766"
      },
      "source": [
        "df_data = pd.DataFrame(dat) #creating a df of dat array\n",
        "df_data.head(2)"
      ],
      "execution_count": 7,
      "outputs": [
        {
          "output_type": "execute_result",
          "data": {
            "text/html": [
              "<div>\n",
              "<style scoped>\n",
              "    .dataframe tbody tr th:only-of-type {\n",
              "        vertical-align: middle;\n",
              "    }\n",
              "\n",
              "    .dataframe tbody tr th {\n",
              "        vertical-align: top;\n",
              "    }\n",
              "\n",
              "    .dataframe thead th {\n",
              "        text-align: right;\n",
              "    }\n",
              "</style>\n",
              "<table border=\"1\" class=\"dataframe\">\n",
              "  <thead>\n",
              "    <tr style=\"text-align: right;\">\n",
              "      <th></th>\n",
              "      <th>0</th>\n",
              "      <th>1</th>\n",
              "      <th>2</th>\n",
              "      <th>3</th>\n",
              "      <th>4</th>\n",
              "      <th>5</th>\n",
              "      <th>6</th>\n",
              "      <th>7</th>\n",
              "      <th>8</th>\n",
              "      <th>9</th>\n",
              "      <th>10</th>\n",
              "      <th>11</th>\n",
              "      <th>12</th>\n",
              "      <th>13</th>\n",
              "      <th>14</th>\n",
              "      <th>15</th>\n",
              "      <th>16</th>\n",
              "      <th>17</th>\n",
              "      <th>18</th>\n",
              "      <th>19</th>\n",
              "      <th>20</th>\n",
              "      <th>21</th>\n",
              "      <th>22</th>\n",
              "      <th>23</th>\n",
              "      <th>24</th>\n",
              "      <th>25</th>\n",
              "      <th>26</th>\n",
              "      <th>27</th>\n",
              "      <th>28</th>\n",
              "      <th>29</th>\n",
              "      <th>30</th>\n",
              "      <th>31</th>\n",
              "      <th>32</th>\n",
              "      <th>33</th>\n",
              "      <th>34</th>\n",
              "      <th>35</th>\n",
              "      <th>36</th>\n",
              "      <th>37</th>\n",
              "      <th>38</th>\n",
              "      <th>39</th>\n",
              "      <th>...</th>\n",
              "      <th>260</th>\n",
              "      <th>261</th>\n",
              "      <th>262</th>\n",
              "      <th>263</th>\n",
              "      <th>264</th>\n",
              "      <th>265</th>\n",
              "      <th>266</th>\n",
              "      <th>267</th>\n",
              "      <th>268</th>\n",
              "      <th>269</th>\n",
              "      <th>270</th>\n",
              "      <th>271</th>\n",
              "      <th>272</th>\n",
              "      <th>273</th>\n",
              "      <th>274</th>\n",
              "      <th>275</th>\n",
              "      <th>276</th>\n",
              "      <th>277</th>\n",
              "      <th>278</th>\n",
              "      <th>279</th>\n",
              "      <th>280</th>\n",
              "      <th>281</th>\n",
              "      <th>282</th>\n",
              "      <th>283</th>\n",
              "      <th>284</th>\n",
              "      <th>285</th>\n",
              "      <th>286</th>\n",
              "      <th>287</th>\n",
              "      <th>288</th>\n",
              "      <th>289</th>\n",
              "      <th>290</th>\n",
              "      <th>291</th>\n",
              "      <th>292</th>\n",
              "      <th>293</th>\n",
              "      <th>294</th>\n",
              "      <th>295</th>\n",
              "      <th>296</th>\n",
              "      <th>297</th>\n",
              "      <th>298</th>\n",
              "      <th>299</th>\n",
              "    </tr>\n",
              "  </thead>\n",
              "  <tbody>\n",
              "    <tr>\n",
              "      <th>0</th>\n",
              "      <td>0</td>\n",
              "      <td>0</td>\n",
              "      <td>0</td>\n",
              "      <td>0</td>\n",
              "      <td>0</td>\n",
              "      <td>0</td>\n",
              "      <td>0</td>\n",
              "      <td>0</td>\n",
              "      <td>0</td>\n",
              "      <td>0</td>\n",
              "      <td>0</td>\n",
              "      <td>0</td>\n",
              "      <td>0</td>\n",
              "      <td>0</td>\n",
              "      <td>0</td>\n",
              "      <td>0</td>\n",
              "      <td>0</td>\n",
              "      <td>0</td>\n",
              "      <td>0</td>\n",
              "      <td>0</td>\n",
              "      <td>0</td>\n",
              "      <td>0</td>\n",
              "      <td>0</td>\n",
              "      <td>0</td>\n",
              "      <td>0</td>\n",
              "      <td>0</td>\n",
              "      <td>0</td>\n",
              "      <td>0</td>\n",
              "      <td>0</td>\n",
              "      <td>0</td>\n",
              "      <td>0</td>\n",
              "      <td>0</td>\n",
              "      <td>0</td>\n",
              "      <td>0</td>\n",
              "      <td>0</td>\n",
              "      <td>0</td>\n",
              "      <td>0</td>\n",
              "      <td>0</td>\n",
              "      <td>0</td>\n",
              "      <td>0</td>\n",
              "      <td>...</td>\n",
              "      <td>72</td>\n",
              "      <td>114</td>\n",
              "      <td>163</td>\n",
              "      <td>227</td>\n",
              "      <td>254</td>\n",
              "      <td>225</td>\n",
              "      <td>254</td>\n",
              "      <td>254</td>\n",
              "      <td>254</td>\n",
              "      <td>250</td>\n",
              "      <td>229</td>\n",
              "      <td>254</td>\n",
              "      <td>254</td>\n",
              "      <td>140</td>\n",
              "      <td>0</td>\n",
              "      <td>0</td>\n",
              "      <td>0</td>\n",
              "      <td>0</td>\n",
              "      <td>0</td>\n",
              "      <td>0</td>\n",
              "      <td>0</td>\n",
              "      <td>0</td>\n",
              "      <td>0</td>\n",
              "      <td>0</td>\n",
              "      <td>0</td>\n",
              "      <td>0</td>\n",
              "      <td>0</td>\n",
              "      <td>0</td>\n",
              "      <td>0</td>\n",
              "      <td>0</td>\n",
              "      <td>0</td>\n",
              "      <td>17</td>\n",
              "      <td>66</td>\n",
              "      <td>14</td>\n",
              "      <td>67</td>\n",
              "      <td>67</td>\n",
              "      <td>67</td>\n",
              "      <td>59</td>\n",
              "      <td>21</td>\n",
              "      <td>236</td>\n",
              "    </tr>\n",
              "    <tr>\n",
              "      <th>1</th>\n",
              "      <td>0</td>\n",
              "      <td>0</td>\n",
              "      <td>0</td>\n",
              "      <td>0</td>\n",
              "      <td>0</td>\n",
              "      <td>0</td>\n",
              "      <td>0</td>\n",
              "      <td>0</td>\n",
              "      <td>0</td>\n",
              "      <td>0</td>\n",
              "      <td>0</td>\n",
              "      <td>0</td>\n",
              "      <td>0</td>\n",
              "      <td>0</td>\n",
              "      <td>0</td>\n",
              "      <td>0</td>\n",
              "      <td>0</td>\n",
              "      <td>0</td>\n",
              "      <td>0</td>\n",
              "      <td>0</td>\n",
              "      <td>0</td>\n",
              "      <td>0</td>\n",
              "      <td>0</td>\n",
              "      <td>0</td>\n",
              "      <td>0</td>\n",
              "      <td>0</td>\n",
              "      <td>0</td>\n",
              "      <td>0</td>\n",
              "      <td>0</td>\n",
              "      <td>0</td>\n",
              "      <td>0</td>\n",
              "      <td>0</td>\n",
              "      <td>0</td>\n",
              "      <td>0</td>\n",
              "      <td>0</td>\n",
              "      <td>0</td>\n",
              "      <td>0</td>\n",
              "      <td>0</td>\n",
              "      <td>0</td>\n",
              "      <td>0</td>\n",
              "      <td>...</td>\n",
              "      <td>0</td>\n",
              "      <td>0</td>\n",
              "      <td>0</td>\n",
              "      <td>0</td>\n",
              "      <td>0</td>\n",
              "      <td>117</td>\n",
              "      <td>247</td>\n",
              "      <td>253</td>\n",
              "      <td>198</td>\n",
              "      <td>10</td>\n",
              "      <td>0</td>\n",
              "      <td>0</td>\n",
              "      <td>0</td>\n",
              "      <td>0</td>\n",
              "      <td>0</td>\n",
              "      <td>0</td>\n",
              "      <td>0</td>\n",
              "      <td>0</td>\n",
              "      <td>0</td>\n",
              "      <td>0</td>\n",
              "      <td>0</td>\n",
              "      <td>0</td>\n",
              "      <td>0</td>\n",
              "      <td>0</td>\n",
              "      <td>0</td>\n",
              "      <td>0</td>\n",
              "      <td>0</td>\n",
              "      <td>0</td>\n",
              "      <td>0</td>\n",
              "      <td>0</td>\n",
              "      <td>0</td>\n",
              "      <td>0</td>\n",
              "      <td>76</td>\n",
              "      <td>247</td>\n",
              "      <td>253</td>\n",
              "      <td>231</td>\n",
              "      <td>63</td>\n",
              "      <td>0</td>\n",
              "      <td>0</td>\n",
              "      <td>0</td>\n",
              "    </tr>\n",
              "  </tbody>\n",
              "</table>\n",
              "<p>2 rows × 300 columns</p>\n",
              "</div>"
            ],
            "text/plain": [
              "   0    1    2    3    4    5    6    ...  293  294  295  296  297  298  299\n",
              "0    0    0    0    0    0    0    0  ...   14   67   67   67   59   21  236\n",
              "1    0    0    0    0    0    0    0  ...  247  253  231   63    0    0    0\n",
              "\n",
              "[2 rows x 300 columns]"
            ]
          },
          "metadata": {},
          "execution_count": 7
        }
      ]
    },
    {
      "cell_type": "code",
      "metadata": {
        "colab": {
          "base_uri": "https://localhost:8080/"
        },
        "id": "PN_Nf2RDfVDK",
        "outputId": "1da0c533-bdf3-481e-c82b-85b3e8b651d9"
      },
      "source": [
        "df_label = pd.DataFrame(lab)\n",
        "df_label.columns = [\"labels\"] #creating a df of labels\n",
        "df_label.shape"
      ],
      "execution_count": 8,
      "outputs": [
        {
          "output_type": "execute_result",
          "data": {
            "text/plain": [
              "(1000, 1)"
            ]
          },
          "metadata": {},
          "execution_count": 8
        }
      ]
    },
    {
      "cell_type": "code",
      "metadata": {
        "colab": {
          "base_uri": "https://localhost:8080/"
        },
        "id": "EQnphQNHfbo3",
        "outputId": "d12af0bb-2993-47de-fb65-a5469fb849d1"
      },
      "source": [
        "result_data_df = pd.concat([df_label, df_data], axis=1, join='inner')\n",
        "result_data_df.shape #merging the data table and labels table into one"
      ],
      "execution_count": 9,
      "outputs": [
        {
          "output_type": "execute_result",
          "data": {
            "text/plain": [
              "(1000, 301)"
            ]
          },
          "metadata": {},
          "execution_count": 9
        }
      ]
    },
    {
      "cell_type": "code",
      "metadata": {
        "colab": {
          "base_uri": "https://localhost:8080/"
        },
        "id": "fr8grQKvfnz4",
        "outputId": "d1f10c57-757c-46fd-f610-108707601cc1"
      },
      "source": [
        "data_0_1_df = result_data_df.loc[(result_data_df['labels'] == 0) | (result_data_df['labels'] == 1)] #filtering out rows that have only 0 & 1 as labels\n",
        "data_0_1_df.shape"
      ],
      "execution_count": 10,
      "outputs": [
        {
          "output_type": "execute_result",
          "data": {
            "text/plain": [
              "(211, 301)"
            ]
          },
          "metadata": {},
          "execution_count": 10
        }
      ]
    },
    {
      "cell_type": "code",
      "metadata": {
        "colab": {
          "base_uri": "https://localhost:8080/"
        },
        "id": "6DovjoseftWF",
        "outputId": "c669b41e-dd7a-40c2-bbc8-ea481f299174"
      },
      "source": [
        "data_0_1_labels = pd.DataFrame(data_0_1_df[\"labels\"].copy())\n",
        "data_0_1_labels.shape #keeping a copy of the label column for 0 and 1"
      ],
      "execution_count": 11,
      "outputs": [
        {
          "output_type": "execute_result",
          "data": {
            "text/plain": [
              "(211, 1)"
            ]
          },
          "metadata": {},
          "execution_count": 11
        }
      ]
    },
    {
      "cell_type": "code",
      "metadata": {
        "colab": {
          "base_uri": "https://localhost:8080/"
        },
        "id": "CVA43Os9gBQm",
        "outputId": "62ac0876-416e-427f-852a-edcd3e18d007"
      },
      "source": [
        "data_0_1_filter = data_0_1_df.drop([\"labels\"], axis=1) #dropping the label column\n",
        "data_0_1_filter.shape #dat data for 0 & 1"
      ],
      "execution_count": 12,
      "outputs": [
        {
          "output_type": "execute_result",
          "data": {
            "text/plain": [
              "(211, 300)"
            ]
          },
          "metadata": {},
          "execution_count": 12
        }
      ]
    },
    {
      "cell_type": "code",
      "metadata": {
        "colab": {
          "base_uri": "https://localhost:8080/"
        },
        "id": "NzeqD_fFgTn2",
        "outputId": "78bd70f4-fd51-475a-fc82-80f7386b39ee"
      },
      "source": [
        "data_1_7_df = result_data_df.loc[(result_data_df['labels'] == 1) | (result_data_df['labels'] == 7)] #filtering out rows that have only 1 & 7 as labels\n",
        "data_1_7_df.shape"
      ],
      "execution_count": 13,
      "outputs": [
        {
          "output_type": "execute_result",
          "data": {
            "text/plain": [
              "(225, 301)"
            ]
          },
          "metadata": {},
          "execution_count": 13
        }
      ]
    },
    {
      "cell_type": "code",
      "metadata": {
        "colab": {
          "base_uri": "https://localhost:8080/"
        },
        "id": "u0TaTwl8gdAY",
        "outputId": "2062e6b8-9125-42d5-9f81-a7500f1b165b"
      },
      "source": [
        "data_1_7_labels = pd.DataFrame(data_1_7_df[\"labels\"].copy())\n",
        "data_1_7_labels.shape #keeping a copy of the label column for 1 and 7"
      ],
      "execution_count": 14,
      "outputs": [
        {
          "output_type": "execute_result",
          "data": {
            "text/plain": [
              "(225, 1)"
            ]
          },
          "metadata": {},
          "execution_count": 14
        }
      ]
    },
    {
      "cell_type": "code",
      "metadata": {
        "colab": {
          "base_uri": "https://localhost:8080/"
        },
        "id": "oShx0gERgsUw",
        "outputId": "4437f58d-823b-4086-e518-38f731a64aee"
      },
      "source": [
        "data_1_7_filter = data_1_7_df.drop([\"labels\"], axis=1) #dropping the label column\n",
        "data_1_7_filter.shape #dat data for 1 & 7"
      ],
      "execution_count": 15,
      "outputs": [
        {
          "output_type": "execute_result",
          "data": {
            "text/plain": [
              "(225, 300)"
            ]
          },
          "metadata": {},
          "execution_count": 15
        }
      ]
    },
    {
      "cell_type": "markdown",
      "metadata": {
        "id": "faRmwtX2iESn"
      },
      "source": [
        "**For 0 & 1:**"
      ]
    },
    {
      "cell_type": "code",
      "metadata": {
        "id": "GK2DwrJJiDx2"
      },
      "source": [
        "#Train-test split for 0 & 1\n",
        "x_train_0_1, x_test_0_1, y_train_0_1, y_test_0_1 = train_test_split(data_0_1_filter, data_0_1_labels, test_size=0.25, random_state=40)"
      ],
      "execution_count": 21,
      "outputs": []
    },
    {
      "cell_type": "code",
      "metadata": {
        "id": "jKQgY85Sg8QV"
      },
      "source": [
        "x_train_0_1 = np.array(x_train_0_1)\n",
        "x_test_0_1 = np.array(x_test_0_1)\n",
        "y_train_0_1 = np.array(y_train_0_1)\n",
        "y_test_0_1 = np.array(y_test_0_1)"
      ],
      "execution_count": 22,
      "outputs": []
    },
    {
      "cell_type": "code",
      "metadata": {
        "colab": {
          "base_uri": "https://localhost:8080/"
        },
        "id": "MfzteIFGioPR",
        "outputId": "8c87a59b-9f7e-487b-eb12-014c62a4ee60"
      },
      "source": [
        "logistic_regression = LogisticRegressionCV(cv=5, random_state=20)\n",
        "lr_fit_0_1 = logistic_regression.fit(x_train_0_1, y_train_0_1) #fitting the model\n",
        "predict_0_1 = lr_fit_0_1.predict(x_test_0_1) #predicting model\n",
        "predict_0_1 #predicted data"
      ],
      "execution_count": 23,
      "outputs": [
        {
          "output_type": "stream",
          "name": "stderr",
          "text": [
            "/usr/local/lib/python3.7/dist-packages/sklearn/utils/validation.py:760: DataConversionWarning: A column-vector y was passed when a 1d array was expected. Please change the shape of y to (n_samples, ), for example using ravel().\n",
            "  y = column_or_1d(y, warn=True)\n"
          ]
        },
        {
          "output_type": "execute_result",
          "data": {
            "text/plain": [
              "array([1, 1, 1, 1, 0, 0, 1, 1, 1, 1, 1, 0, 1, 1, 0, 0, 0, 0, 0, 1, 1, 1,\n",
              "       1, 0, 1, 0, 1, 1, 1, 1, 1, 1, 1, 0, 1, 1, 1, 1, 1, 1, 1, 0, 0, 1,\n",
              "       0, 0, 1, 0, 1, 1, 1, 1, 0], dtype=uint8)"
            ]
          },
          "metadata": {},
          "execution_count": 23
        }
      ]
    },
    {
      "cell_type": "code",
      "metadata": {
        "colab": {
          "base_uri": "https://localhost:8080/"
        },
        "id": "ztNEDRMYiujm",
        "outputId": "6420acbc-03c2-4de7-8e55-5cfa9c3b4d8c"
      },
      "source": [
        "y_test_0_1 #true data"
      ],
      "execution_count": 24,
      "outputs": [
        {
          "output_type": "execute_result",
          "data": {
            "text/plain": [
              "array([[1],\n",
              "       [1],\n",
              "       [1],\n",
              "       [1],\n",
              "       [0],\n",
              "       [0],\n",
              "       [1],\n",
              "       [1],\n",
              "       [1],\n",
              "       [0],\n",
              "       [1],\n",
              "       [0],\n",
              "       [1],\n",
              "       [1],\n",
              "       [0],\n",
              "       [0],\n",
              "       [0],\n",
              "       [0],\n",
              "       [0],\n",
              "       [1],\n",
              "       [1],\n",
              "       [1],\n",
              "       [1],\n",
              "       [0],\n",
              "       [1],\n",
              "       [0],\n",
              "       [1],\n",
              "       [1],\n",
              "       [1],\n",
              "       [1],\n",
              "       [1],\n",
              "       [1],\n",
              "       [1],\n",
              "       [0],\n",
              "       [1],\n",
              "       [1],\n",
              "       [1],\n",
              "       [1],\n",
              "       [1],\n",
              "       [1],\n",
              "       [1],\n",
              "       [0],\n",
              "       [0],\n",
              "       [1],\n",
              "       [0],\n",
              "       [0],\n",
              "       [1],\n",
              "       [0],\n",
              "       [0],\n",
              "       [0],\n",
              "       [1],\n",
              "       [1],\n",
              "       [0]], dtype=uint8)"
            ]
          },
          "metadata": {},
          "execution_count": 24
        }
      ]
    },
    {
      "cell_type": "code",
      "metadata": {
        "colab": {
          "base_uri": "https://localhost:8080/"
        },
        "id": "79Iby8eSizXB",
        "outputId": "55166b78-a372-4227-f2fd-2b87304897cb"
      },
      "source": [
        "\n",
        "print(\"accuracy for 0 & 1:\",accuracy_score(y_test_0_1, predict_0_1))\n",
        "print(\"recall for 0 & 1:\", recall_score(y_test_0_1, predict_0_1))\n",
        "print(\"precision for 0 & 1:\",precision_score(y_test_0_1, predict_0_1))"
      ],
      "execution_count": 25,
      "outputs": [
        {
          "output_type": "stream",
          "name": "stdout",
          "text": [
            "accuracy for 0 & 1: 0.9433962264150944\n",
            "recall for 0 & 1: 1.0\n",
            "precision for 0 & 1: 0.9166666666666666\n"
          ]
        }
      ]
    },
    {
      "cell_type": "code",
      "metadata": {
        "colab": {
          "base_uri": "https://localhost:8080/"
        },
        "id": "8pNzaf3Hi9BC",
        "outputId": "0774a087-b996-4fd5-9de0-85cd6aed3b07"
      },
      "source": [
        "test = y_test_0_1\n",
        "pred = logistic_regression.predict_proba(x_test_0_1)[:, 1]\n",
        "print('roc_auc_score for Logistic regression: ', roc_auc_score(test, pred))\n",
        "\n",
        "# assign fpr, tpr\n",
        "fpr, tpr, threshold = roc_curve(test, pred)\n",
        "\n",
        "auc_df = pd.DataFrame([fpr,tpr]).T\n",
        "auc_df.columns = [\"fpr\", \"tpr\"]"
      ],
      "execution_count": 26,
      "outputs": [
        {
          "output_type": "stream",
          "name": "stdout",
          "text": [
            "roc_auc_score for Logistic regression:  0.9909090909090909\n"
          ]
        }
      ]
    },
    {
      "cell_type": "code",
      "metadata": {
        "colab": {
          "base_uri": "https://localhost:8080/",
          "height": 295
        },
        "id": "-ueVaV9vjESm",
        "outputId": "3a42f3cc-7ba1-48b5-9bf2-336673f56c35"
      },
      "source": [
        "plt.title('Receiver Operating Characteristic')\n",
        "plt.plot(fpr, tpr, 'b', label = 'AUC = %0.4f' % roc_auc_score(test, pred))\n",
        "plt.legend(loc = 'lower right')\n",
        "plt.plot([-0.1, 1], [-0.1, 1],'r--')\n",
        "plt.xlim([-0.1, 1])\n",
        "plt.ylim([0, 1])\n",
        "plt.ylabel('True Positive Rate')\n",
        "plt.xlabel('False Positive Rate')\n",
        "plt.show()"
      ],
      "execution_count": 27,
      "outputs": [
        {
          "output_type": "display_data",
          "data": {
            "image/png": "[encoded data removed]",
            "text/plain": [
              "<Figure size 432x288 with 1 Axes>"
            ]
          },
          "metadata": {
            "needs_background": "light"
          }
        }
      ]
    },
    {
      "cell_type": "markdown",
      "metadata": {
        "id": "hycmjfkkjfyG"
      },
      "source": [
        "**For 1 & 7:**"
      ]
    },
    {
      "cell_type": "code",
      "metadata": {
        "id": "ElNXEkMcjVBY"
      },
      "source": [
        "#Train-test split for 1 & 7\n",
        "x_train_1_7, x_test_1_7, y_train_1_7, y_test_1_7 = train_test_split(data_1_7_filter, data_1_7_labels, test_size=0.25, random_state=40)"
      ],
      "execution_count": 28,
      "outputs": []
    },
    {
      "cell_type": "code",
      "metadata": {
        "id": "g5ne_TfDjkX2"
      },
      "source": [
        "x_train_1_7 = np.array(x_train_1_7)\n",
        "x_test_1_7 = np.array(x_test_1_7)\n",
        "y_train_1_7 = np.array(y_train_1_7)\n",
        "y_test_1_7 = np.array(y_test_1_7)"
      ],
      "execution_count": 29,
      "outputs": []
    },
    {
      "cell_type": "code",
      "metadata": {
        "colab": {
          "base_uri": "https://localhost:8080/"
        },
        "id": "8MtcPyoGjyaq",
        "outputId": "75d8b49c-bb9b-4762-fd45-6bf87d639617"
      },
      "source": [
        "logistic_regression = LogisticRegressionCV(cv=5, random_state=20)\n",
        "lr_fit_1_7 = logistic_regression.fit(x_train_1_7, y_train_1_7)\n",
        "predict_1_7 = lr_fit_1_7.predict(x_test_1_7)\n",
        "predict_1_7"
      ],
      "execution_count": 30,
      "outputs": [
        {
          "output_type": "stream",
          "name": "stderr",
          "text": [
            "/usr/local/lib/python3.7/dist-packages/sklearn/utils/validation.py:760: DataConversionWarning: A column-vector y was passed when a 1d array was expected. Please change the shape of y to (n_samples, ), for example using ravel().\n",
            "  y = column_or_1d(y, warn=True)\n"
          ]
        },
        {
          "output_type": "execute_result",
          "data": {
            "text/plain": [
              "array([1, 7, 7, 1, 1, 7, 1, 1, 7, 1, 7, 1, 1, 1, 1, 7, 1, 7, 1, 1, 1, 7,\n",
              "       7, 1, 7, 7, 1, 1, 7, 7, 1, 7, 1, 7, 7, 1, 1, 7, 1, 7, 7, 1, 7, 7,\n",
              "       7, 7, 7, 1, 1, 7, 7, 7, 7, 7, 1, 7, 1], dtype=uint8)"
            ]
          },
          "metadata": {},
          "execution_count": 30
        }
      ]
    },
    {
      "cell_type": "code",
      "metadata": {
        "colab": {
          "base_uri": "https://localhost:8080/"
        },
        "id": "k8-J0R_LkI7O",
        "outputId": "700088ed-e557-45ab-d8b6-0479ab5afa13"
      },
      "source": [
        "y_test_1_7"
      ],
      "execution_count": 31,
      "outputs": [
        {
          "output_type": "execute_result",
          "data": {
            "text/plain": [
              "array([[1],\n",
              "       [7],\n",
              "       [7],\n",
              "       [1],\n",
              "       [1],\n",
              "       [7],\n",
              "       [1],\n",
              "       [1],\n",
              "       [7],\n",
              "       [1],\n",
              "       [7],\n",
              "       [1],\n",
              "       [1],\n",
              "       [1],\n",
              "       [1],\n",
              "       [1],\n",
              "       [1],\n",
              "       [7],\n",
              "       [7],\n",
              "       [1],\n",
              "       [1],\n",
              "       [7],\n",
              "       [7],\n",
              "       [1],\n",
              "       [7],\n",
              "       [7],\n",
              "       [1],\n",
              "       [1],\n",
              "       [7],\n",
              "       [7],\n",
              "       [1],\n",
              "       [7],\n",
              "       [1],\n",
              "       [7],\n",
              "       [7],\n",
              "       [1],\n",
              "       [1],\n",
              "       [7],\n",
              "       [1],\n",
              "       [7],\n",
              "       [7],\n",
              "       [1],\n",
              "       [7],\n",
              "       [7],\n",
              "       [7],\n",
              "       [7],\n",
              "       [7],\n",
              "       [1],\n",
              "       [1],\n",
              "       [7],\n",
              "       [7],\n",
              "       [7],\n",
              "       [7],\n",
              "       [7],\n",
              "       [1],\n",
              "       [7],\n",
              "       [1]], dtype=uint8)"
            ]
          },
          "metadata": {},
          "execution_count": 31
        }
      ]
    },
    {
      "cell_type": "code",
      "metadata": {
        "colab": {
          "base_uri": "https://localhost:8080/"
        },
        "id": "JgMCRiR8kAve",
        "outputId": "c6a04054-1fe4-4d4d-b142-6d0099afcdba"
      },
      "source": [
        "print(\"accuracy for 1 & 7:\",accuracy_score(y_test_1_7, predict_1_7))\n",
        "print(\"recall for 1 & 7:\", recall_score(y_test_1_7, predict_1_7))\n",
        "print(\"precision for 1 & 7:\",precision_score(y_test_1_7, predict_1_7))"
      ],
      "execution_count": 32,
      "outputs": [
        {
          "output_type": "stream",
          "name": "stdout",
          "text": [
            "accuracy for 1 & 7: 0.9649122807017544\n",
            "recall for 1 & 7: 0.9629629629629629\n",
            "precision for 1 & 7: 0.9629629629629629\n"
          ]
        }
      ]
    },
    {
      "cell_type": "code",
      "metadata": {
        "colab": {
          "base_uri": "https://localhost:8080/"
        },
        "id": "ZwDPZ6cokPQg",
        "outputId": "e8321bd3-5c99-497a-db61-9eeb7c91d72d"
      },
      "source": [
        "test_1_7 = y_test_1_7\n",
        "pred_1_7 = logistic_regression.predict_proba(x_test_1_7)[:, 1]\n",
        "print('roc_auc_score for Logistic regression of 1 & 7 is : ', roc_auc_score(y_test_1_7, pred_1_7))\n",
        "\n",
        "# assign fpr, tpr\n",
        "fpr_1_7, tpr_1_7, threshold_1_7 = roc_curve(test_1_7, pred_1_7, pos_label=7)\n",
        "\n",
        "auc_df1 = pd.DataFrame([fpr_1_7,tpr_1_7]).T\n",
        "auc_df1.columns = [\"fpr\", \"tpr\"]"
      ],
      "execution_count": 33,
      "outputs": [
        {
          "output_type": "stream",
          "name": "stdout",
          "text": [
            "roc_auc_score for Logistic regression of 1 & 7 is :  0.9925925925925927\n"
          ]
        }
      ]
    },
    {
      "cell_type": "code",
      "metadata": {
        "colab": {
          "base_uri": "https://localhost:8080/",
          "height": 295
        },
        "id": "FTk19D_ukYGe",
        "outputId": "20919a6d-f532-4bcb-a5e5-b3c1a2e3195e"
      },
      "source": [
        "plt.title('Receiver Operating Characteristic')\n",
        "plt.plot(fpr_1_7, tpr_1_7, 'b', label = 'AUC = %0.4f' % roc_auc_score(y_test_1_7, pred_1_7))\n",
        "plt.legend(loc = 'lower right')\n",
        "plt.plot([-0.1, 1], [-0.1, 1],'r--')\n",
        "plt.xlim([-0.1, 1])\n",
        "plt.ylim([0, 1])\n",
        "plt.ylabel('True Positive Rate')\n",
        "plt.xlabel('False Positive Rate')\n",
        "plt.show()\n",
        "\n"
      ],
      "execution_count": 34,
      "outputs": [
        {
          "output_type": "display_data",
          "data": {
            "image/png": "[encoded data removed]",
            "text/plain": [
              "<Figure size 432x288 with 1 Axes>"
            ]
          },
          "metadata": {
            "needs_background": "light"
          }
        }
      ]
    },
    {
      "cell_type": "markdown",
      "metadata": {
        "id": "-LGgOKK8mYHn"
      },
      "source": [
        "**2.3) Explain any differences in performance between the four datasets (zero and one, one and seven, zero and one subset, one and seven subset)**"
      ]
    },
    {
      "cell_type": "markdown",
      "metadata": {
        "id": "zC1qMRQ93o1d"
      },
      "source": [
        "For the four datasets above, in case of zero and one, the accuracy, precision and recall and roc_auc_score all came 1.0 meaning the model was able to predict at 100% accuracy. In case of one and seven, the accuracy is 0.98, precision is 0.96 and recall is 1.0 and roc_auc_score is 0.998 and based on the accuracy and AUC score this model also outperformed in predicting one and seven giving an accuracy of 98%.\n",
        "\n",
        "Now in case of zero and one subset, my accuracy is 0.94, recall 1.0, precision 0.91 and roc_auc_score is 0.990 meaning this subset model also performed pretty well with 94% accuracy and 0.990 AUC. For one and seven, the accuracy is 0.96, precision is 0.96 and recall is 0.96 and roc_auc_score is 0.992 and based on the accuracy and AUC score this model also performed well in predicting one and seven giving an accuracy of 96% and 0.992 AUC.\n",
        "\n",
        "Now comparing the results for the one with the whole dataset and the one with the subset data, there wasn't too much difference in performance between them but if you notice closely, for zero and one & zero and one subset the AUC differed by 0.01 and for one and seven & one and seven subset the AUC differed by 0.006 which is not too much. This could be because we reduced the number of features in the later one, so it performed slightly less compared to the former model with the whole dataset but allover both of them performed well."
      ]
    },
    {
      "cell_type": "code",
      "metadata": {
        "id": "_thW4pvCmZ5Y"
      },
      "source": [
        ""
      ],
      "execution_count": null,
      "outputs": []
    },
    {
      "cell_type": "code",
      "metadata": {
        "id": "2-v4D9H7mZsx"
      },
      "source": [
        ""
      ],
      "execution_count": null,
      "outputs": []
    }
  ]
}
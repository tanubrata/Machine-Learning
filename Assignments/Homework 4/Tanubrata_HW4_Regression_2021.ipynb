{
  "nbformat": 4,
  "nbformat_minor": 0,
  "metadata": {
    "colab": {
      "name": "Tanubrata_HW4_Regression_2021.ipynb",
      "provenance": [],
      "collapsed_sections": []
    },
    "kernelspec": {
      "name": "python3",
      "display_name": "Python 3"
    }
  },
  "cells": [
    {
      "cell_type": "markdown",
      "metadata": {
        "id": "NFGZEcORPjXV"
      },
      "source": [
        "# Homework for Regression\n",
        "\n",
        "In **Part 0** we will download Boston housing dataset, which will be used for Part 1 and Part 2 of this homework. \n",
        "\n",
        "In **Part 1** (20 points) we will implement single variable linear regression. These formulas are derived and presented in Lecture 7, slide 10. You may only use functions from the Numpy library. You may NOT use any prebuilt linear regression functions available in scikit-learn, scipy, statsmodels, glm, lm, caret, or any other library. Doing so will result in a **0 score** for Part 1. If in doubt, feel free to clarify what library is allowed (and what is not) via Slack. \n",
        "\n",
        "In **Part 2** (20 points) we will implement multiple variable linear regression. These formulas are derived and presented in Lecture 7, slide 16-18. You may only use functions from the Numpy library. You may NOT use any prebuilt linear regression functions available in scikit-learn, scipy, statsmodels, glm, lm, caret, or any other library. Doing so will result in a **0 score** for Part 2. If in doubt, feel free to clarify what library is allowed (and what is not) via Slack. \n",
        "\n",
        "In **Part 3** (60 points) we will explore different use cases for multiple variable linear regression. **R** is recommended for coding, but **Python** will also be accepted. "
      ]
    },
    {
      "cell_type": "markdown",
      "metadata": {
        "id": "iSMTvGNeOe9J"
      },
      "source": [
        "# **Part 0**\n",
        "Load Boston housing dataset."
      ]
    },
    {
      "cell_type": "code",
      "metadata": {
        "colab": {
          "base_uri": "https://localhost:8080/",
          "height": 206
        },
        "id": "FgEqstqHOgXD",
        "outputId": "95c8c728-3edf-4a06-b0f6-239caf76406d"
      },
      "source": [
        "from sklearn import datasets\n",
        "import pandas as pd\n",
        "\n",
        "data = datasets.load_boston()\n",
        "df = pd.DataFrame(data.data, columns=data.feature_names)\n",
        "df['MEDV'] = data.target\n",
        "df.head()\n",
        "\n",
        "# Boston House Prices dataset\n",
        "# ===========================\n",
        "\n",
        "# Notes\n",
        "# ------\n",
        "# Data Set Characteristics:  \n",
        "\n",
        "#     :Number of Instances: 506 \n",
        "\n",
        "#     :Number of Attributes: 13 numeric/categorical predictive\n",
        "    \n",
        "#     :Median Value (attribute 14) is usually the target\n",
        "\n",
        "#     :Attribute Information (in order):\n",
        "#         - CRIM     per capita crime rate by town\n",
        "#         - ZN       proportion of residential land zoned for lots over 25,000 sq.ft.\n",
        "#         - INDUS    proportion of non-retail business acres per town\n",
        "#         - CHAS     Charles River dummy variable (= 1 if tract bounds river; 0 otherwise)\n",
        "#         - NOX      nitric oxides concentration (parts per 10 million)\n",
        "#         - RM       average number of rooms per dwelling\n",
        "#         - AGE      proportion of owner-occupied units built prior to 1940\n",
        "#         - DIS      weighted distances to five Boston employment centres\n",
        "#         - RAD      index of accessibility to radial highways\n",
        "#         - TAX      full-value property-tax rate per $10,000\n",
        "#         - PTRATIO  pupil-teacher ratio by town\n",
        "#         - B        1000(Bk - 0.63)^2 where Bk is the proportion of blacks by town\n",
        "#         - LSTAT    % lower status of the population\n",
        "#         - MEDV     Median value of owner-occupied homes in $1000's\n",
        "\n",
        "#     :Missing Attribute Values: None\n",
        "\n",
        "#     :Creator: Harrison, D. and Rubinfeld, D.L.\n",
        "\n",
        "# This is a copy of UCI ML housing dataset.\n",
        "# http://archive.ics.uci.edu/ml/datasets/Housing\n",
        "\n",
        "\n",
        "# This dataset was taken from the StatLib library which is maintained at Carnegie Mellon University."
      ],
      "execution_count": 38,
      "outputs": [
        {
          "output_type": "execute_result",
          "data": {
            "text/html": [
              "<div>\n",
              "<style scoped>\n",
              "    .dataframe tbody tr th:only-of-type {\n",
              "        vertical-align: middle;\n",
              "    }\n",
              "\n",
              "    .dataframe tbody tr th {\n",
              "        vertical-align: top;\n",
              "    }\n",
              "\n",
              "    .dataframe thead th {\n",
              "        text-align: right;\n",
              "    }\n",
              "</style>\n",
              "<table border=\"1\" class=\"dataframe\">\n",
              "  <thead>\n",
              "    <tr style=\"text-align: right;\">\n",
              "      <th></th>\n",
              "      <th>CRIM</th>\n",
              "      <th>ZN</th>\n",
              "      <th>INDUS</th>\n",
              "      <th>CHAS</th>\n",
              "      <th>NOX</th>\n",
              "      <th>RM</th>\n",
              "      <th>AGE</th>\n",
              "      <th>DIS</th>\n",
              "      <th>RAD</th>\n",
              "      <th>TAX</th>\n",
              "      <th>PTRATIO</th>\n",
              "      <th>B</th>\n",
              "      <th>LSTAT</th>\n",
              "      <th>MEDV</th>\n",
              "    </tr>\n",
              "  </thead>\n",
              "  <tbody>\n",
              "    <tr>\n",
              "      <th>0</th>\n",
              "      <td>0.00632</td>\n",
              "      <td>18.0</td>\n",
              "      <td>2.31</td>\n",
              "      <td>0.0</td>\n",
              "      <td>0.538</td>\n",
              "      <td>6.575</td>\n",
              "      <td>65.2</td>\n",
              "      <td>4.0900</td>\n",
              "      <td>1.0</td>\n",
              "      <td>296.0</td>\n",
              "      <td>15.3</td>\n",
              "      <td>396.90</td>\n",
              "      <td>4.98</td>\n",
              "      <td>24.0</td>\n",
              "    </tr>\n",
              "    <tr>\n",
              "      <th>1</th>\n",
              "      <td>0.02731</td>\n",
              "      <td>0.0</td>\n",
              "      <td>7.07</td>\n",
              "      <td>0.0</td>\n",
              "      <td>0.469</td>\n",
              "      <td>6.421</td>\n",
              "      <td>78.9</td>\n",
              "      <td>4.9671</td>\n",
              "      <td>2.0</td>\n",
              "      <td>242.0</td>\n",
              "      <td>17.8</td>\n",
              "      <td>396.90</td>\n",
              "      <td>9.14</td>\n",
              "      <td>21.6</td>\n",
              "    </tr>\n",
              "    <tr>\n",
              "      <th>2</th>\n",
              "      <td>0.02729</td>\n",
              "      <td>0.0</td>\n",
              "      <td>7.07</td>\n",
              "      <td>0.0</td>\n",
              "      <td>0.469</td>\n",
              "      <td>7.185</td>\n",
              "      <td>61.1</td>\n",
              "      <td>4.9671</td>\n",
              "      <td>2.0</td>\n",
              "      <td>242.0</td>\n",
              "      <td>17.8</td>\n",
              "      <td>392.83</td>\n",
              "      <td>4.03</td>\n",
              "      <td>34.7</td>\n",
              "    </tr>\n",
              "    <tr>\n",
              "      <th>3</th>\n",
              "      <td>0.03237</td>\n",
              "      <td>0.0</td>\n",
              "      <td>2.18</td>\n",
              "      <td>0.0</td>\n",
              "      <td>0.458</td>\n",
              "      <td>6.998</td>\n",
              "      <td>45.8</td>\n",
              "      <td>6.0622</td>\n",
              "      <td>3.0</td>\n",
              "      <td>222.0</td>\n",
              "      <td>18.7</td>\n",
              "      <td>394.63</td>\n",
              "      <td>2.94</td>\n",
              "      <td>33.4</td>\n",
              "    </tr>\n",
              "    <tr>\n",
              "      <th>4</th>\n",
              "      <td>0.06905</td>\n",
              "      <td>0.0</td>\n",
              "      <td>2.18</td>\n",
              "      <td>0.0</td>\n",
              "      <td>0.458</td>\n",
              "      <td>7.147</td>\n",
              "      <td>54.2</td>\n",
              "      <td>6.0622</td>\n",
              "      <td>3.0</td>\n",
              "      <td>222.0</td>\n",
              "      <td>18.7</td>\n",
              "      <td>396.90</td>\n",
              "      <td>5.33</td>\n",
              "      <td>36.2</td>\n",
              "    </tr>\n",
              "  </tbody>\n",
              "</table>\n",
              "</div>"
            ],
            "text/plain": [
              "      CRIM    ZN  INDUS  CHAS    NOX  ...    TAX  PTRATIO       B  LSTAT  MEDV\n",
              "0  0.00632  18.0   2.31   0.0  0.538  ...  296.0     15.3  396.90   4.98  24.0\n",
              "1  0.02731   0.0   7.07   0.0  0.469  ...  242.0     17.8  396.90   9.14  21.6\n",
              "2  0.02729   0.0   7.07   0.0  0.469  ...  242.0     17.8  392.83   4.03  34.7\n",
              "3  0.03237   0.0   2.18   0.0  0.458  ...  222.0     18.7  394.63   2.94  33.4\n",
              "4  0.06905   0.0   2.18   0.0  0.458  ...  222.0     18.7  396.90   5.33  36.2\n",
              "\n",
              "[5 rows x 14 columns]"
            ]
          },
          "metadata": {},
          "execution_count": 38
        }
      ]
    },
    {
      "cell_type": "markdown",
      "metadata": {
        "id": "Xj7FPlT8Omlx"
      },
      "source": [
        "# **Part 1**\n",
        "*   Implement single variable linear regression.\n",
        "*   Calculate the coefficients of a linear regression equation between the MEDV column (median value of homes in $1000's) and the RM column (average number of rooms per dwelling). \n"
      ]
    },
    {
      "cell_type": "code",
      "metadata": {
        "id": "GUhOUoowOrgF"
      },
      "source": [
        "import numpy as np\n",
        "\n",
        "class single_LR_implementation:\n",
        "  def __init__(self):\n",
        "    self.slope = None\n",
        "    self.intercept = None\n",
        "\n",
        "  def fit(self,X,Y):\n",
        "    self.slope = (((X-X.mean())*(Y-Y.mean())).sum())/(((X-X.mean())**2).sum()) ### Replace \"None\" with your code (5 points)\n",
        "    self.intercept = (Y.mean())-(((((X-X.mean())*(Y-Y.mean())).sum())/(((X-X.mean())**2).sum()))*X.mean()) ### Replace \"None\" with your code (5 points)\n",
        "\n",
        "  def predict(self,X):\n",
        "    if self.slope==None or self.intercept==None:\n",
        "      print(\"Please fit the data before running predict\")\n",
        "    else:\n",
        "      Y_hat = (X*self.slope)+self.intercept ### Replace \"None\" with your code (2 points)\n",
        "      return Y_hat"
      ],
      "execution_count": 39,
      "outputs": []
    },
    {
      "cell_type": "code",
      "metadata": {
        "id": "FzbcVQMRO4ly",
        "colab": {
          "base_uri": "https://localhost:8080/"
        },
        "outputId": "0cee4aca-6ace-48b7-a97d-de3bb5046563"
      },
      "source": [
        "##Test your implementation of single linear regression.\n",
        "\n",
        "X = df['RM'].to_numpy()\n",
        "Y = df['MEDV'].to_numpy()\n",
        "\n",
        "singleLR = single_LR_implementation()\n",
        "singleLR.fit(X,Y)\n",
        "\n",
        "#Calculate the MSE\n",
        "y_hat = singleLR.predict(X) ### Replace \"None\" with your code (4 points)\n",
        "mse = np.square(np.subtract(Y,y_hat)).mean() ### Replace \"None\" with your code (4 points)\n",
        "\n",
        "print('Your slope is: ',singleLR.slope)\n",
        "print('Your intercept is: ',singleLR.intercept)\n",
        "\n",
        "#Compare the slope and intercept values with your implementation's outputs. \n",
        "from sklearn.linear_model import LinearRegression\n",
        "reg = LinearRegression(fit_intercept=True)\n",
        "reg.fit(X.reshape((len(X),1)),Y)\n",
        "print('Sklearn slope is: ',reg.coef_[0])\n",
        "print('Sklearn intercept is: ',reg.intercept_)"
      ],
      "execution_count": 40,
      "outputs": [
        {
          "output_type": "stream",
          "name": "stdout",
          "text": [
            "Your slope is:  9.10210898118031\n",
            "Your intercept is:  -34.67062077643857\n",
            "Sklearn slope is:  9.10210898118031\n",
            "Sklearn intercept is:  -34.67062077643857\n"
          ]
        }
      ]
    },
    {
      "cell_type": "code",
      "metadata": {
        "colab": {
          "base_uri": "https://localhost:8080/"
        },
        "id": "4C7aKhumq6sp",
        "outputId": "5004e485-5617-42aa-f540-2c18116f48b8"
      },
      "source": [
        "\n",
        "print(mse) #mse for single linear regression"
      ],
      "execution_count": 43,
      "outputs": [
        {
          "output_type": "stream",
          "name": "stdout",
          "text": [
            "43.60055177116956\n"
          ]
        }
      ]
    },
    {
      "cell_type": "markdown",
      "metadata": {
        "id": "ZP2xpNpmQq1T"
      },
      "source": [
        "# **Part 2**\n",
        "*   Implement multiple variable linear regression. (Hint: use slides 16-18 from lecture 7). \n",
        "*   Calculate the coefficients of a linear regression equation between the MEDV column (median value of homes in $1000's) and all 13 other columns. "
      ]
    },
    {
      "cell_type": "code",
      "metadata": {
        "id": "Kqxkw5KDQtdA"
      },
      "source": [
        "import numpy as np\n",
        "\n",
        "class multi_LR_implementation:\n",
        "  def __init__(self):\n",
        "    self.values = None\n",
        "\n",
        "  def fit(self,X,Y): \n",
        "    self.values = np.dot(np.dot(np.linalg.inv(np.dot(X.T,X)),X.T),Y)### Replace \"None\" with your code - (hint: Implement the formula on slide 18) (10 points)\n",
        "     \n",
        "\n",
        "  def predict(self,X):\n",
        "    if self.values == None:\n",
        "      print(\"Please fit the data before running predict\")\n",
        "    else:\n",
        "      Y_hat = np.dot(X, self.values) ### Replace \"None\" with your code (2 points)\n",
        "      return Y_hat"
      ],
      "execution_count": 78,
      "outputs": []
    },
    {
      "cell_type": "code",
      "metadata": {
        "id": "zdRkbPayQ61i"
      },
      "source": [
        "import numpy as np\n",
        "\n",
        "### Test code\n",
        "X = df.drop(['MEDV'],axis=1).to_numpy()\n",
        "Y = df['MEDV'].to_numpy()\n",
        "X_modified = np.hstack((np.ones(X.shape[0]).reshape((X.shape[0],1)),X)) \n",
        "\n",
        "#Why are the 3 lines of code above necessary? Why is X padded with a column of 1s to create X_modified? (4 points)."
      ],
      "execution_count": 79,
      "outputs": []
    },
    {
      "cell_type": "markdown",
      "metadata": {
        "id": "XyY0Nx3gNPYT"
      },
      "source": [
        "**The first code creates a new df by removing the MEDV column from the dataset and then converting it to a numpy array to use in Multiple Linear Regression calculation.**\n",
        "\n",
        "**The second code creates a df using only MEDV column from the original df and then converting it into a numpy array. So basicallly the above two codes are splitting the original df into two, X containing all the independent variable and Y containing the dependent variable.**\n",
        "\n",
        "**The third code is actually horizontally adding a new column of 1's to the independent variable array and then reshaping it to keep 14 columns as the original df. In regression we need to add a column of ones to permit for an intercept or the constant value in the regression or else, it will constrain the fit to go through the origin.**"
      ]
    },
    {
      "cell_type": "code",
      "metadata": {
        "id": "bE1AVM2cRiXN",
        "colab": {
          "base_uri": "https://localhost:8080/"
        },
        "outputId": "094774f9-655e-442f-9275-21825868e545"
      },
      "source": [
        "multiLR = multi_LR_implementation() #calling the multiple regression implementation\n",
        "multiLR.fit(X_modified,Y) #fitting the multiple regression implementation to the modified X array and Y array\n",
        "\n",
        "print(multiLR.values) #printing the values\n",
        "\n",
        "# What does the first value from multiLR.values represent? How about the second? And third? (4 points)\n",
        "#1st value intercept (n_targets), all are features."
      ],
      "execution_count": 80,
      "outputs": [
        {
          "output_type": "stream",
          "name": "stdout",
          "text": [
            "[ 3.64594884e+01 -1.08011358e-01  4.64204584e-02  2.05586264e-02\n",
            "  2.68673382e+00 -1.77666112e+01  3.80986521e+00  6.92224640e-04\n",
            " -1.47556685e+00  3.06049479e-01 -1.23345939e-02 -9.52747232e-01\n",
            "  9.31168327e-03 -5.24758378e-01]\n"
          ]
        }
      ]
    },
    {
      "cell_type": "markdown",
      "metadata": {
        "id": "gBqyWtAMoEDW"
      },
      "source": [
        "**The values from multiLR.values are the coefficients of the regression model, in which the first one represents the intercept and the second and third and the rest represents the size of the effect the independent variables that are having on the dependent variable.**"
      ]
    },
    {
      "cell_type": "code",
      "metadata": {
        "colab": {
          "base_uri": "https://localhost:8080/"
        },
        "id": "MCOtVLL0dj2R",
        "outputId": "2002d452-8996-439d-eb34-23d404809ded"
      },
      "source": [
        "multiLR.values[1:] #coefficients for independent variable"
      ],
      "execution_count": 45,
      "outputs": [
        {
          "output_type": "execute_result",
          "data": {
            "text/plain": [
              "array([-1.08011358e-01,  4.64204584e-02,  2.05586264e-02,  2.68673382e+00,\n",
              "       -1.77666112e+01,  3.80986521e+00,  6.92224640e-04, -1.47556685e+00,\n",
              "        3.06049479e-01, -1.23345939e-02, -9.52747232e-01,  9.31168327e-03,\n",
              "       -5.24758378e-01])"
            ]
          },
          "metadata": {},
          "execution_count": 45
        }
      ]
    },
    {
      "cell_type": "markdown",
      "metadata": {
        "id": "4zCZnAxKR0Jv"
      },
      "source": [
        "# **Part 3**\n"
      ]
    },
    {
      "cell_type": "markdown",
      "metadata": {
        "id": "5oEoE8RoSO__"
      },
      "source": [
        "1. Run the multiple linear regression example from class. Calculate the difference between the coefficients of the fit (fit$coefficients) and the true coefficients (0,1,2,3). Then square this error and sum across the four coefficients to get the square error. (10 points)"
      ]
    },
    {
      "cell_type": "code",
      "metadata": {
        "id": "FZ2jHT0hpXfu"
      },
      "source": [
        "%load_ext rpy2.ipython"
      ],
      "execution_count": 47,
      "outputs": []
    },
    {
      "cell_type": "code",
      "metadata": {
        "id": "VhISmqupSJph",
        "colab": {
          "base_uri": "https://localhost:8080/"
        },
        "outputId": "3efbf75e-a434-4498-b1c1-df0697a81b70"
      },
      "source": [
        "#Insert your code answer here:\n",
        "%%R\n",
        "library(MASS)\n",
        "N=25 # Sample size\n",
        "residual_sd = 1 # Standard deviation for residuals (same as y_stddev above)\n",
        "coeffs = c(0,1,2,3) # True linear coefficients for 1, x1, x2, x3\n",
        "Sigma = rbind(c(1,0,0),\n",
        "              c(0,1,0),\n",
        "              c(0,0,1)) # Covariance matrix for simulating multiple x values\n",
        "#Sigma = diag(3) # Short hand for the above. Useful for HW.\n",
        "mu = c(0,0,0) # Average values for the x coordinates\n",
        "xvals = mvrnorm(N, mu, Sigma) # Simulate x values from a multivariate normal\n",
        "yvals = rowSums(t(t(xvals)*coeffs[2:4]))+rnorm(N,coeffs[1],residual_sd) # calculate y values according to the formula y=coeff1*x1+coeff2*x2+coeff3*x3+epsilon\n",
        "data = data.frame(cbind(xvals,yvals)) # data.frame, make larger amounts of data easier to work with\n",
        "colnames(data) = c(\"x1\",\"x2\",\"x3\",\"y\") # label columns of the data.frame so we can refer to them later\n",
        "fit = lm(y~x1+x2+x3,data=data) # fit a multiple linear regression\n",
        "summary(fit) # Report info about the fit\n",
        "\n",
        "coeff_diff = coeffs - fit$coefficients #difference of 2 coefficients\n",
        "square_coeff_vec = coeff_diff^2 #squaring the coefficient difference\n",
        "se = sum(square_coeff_vec) #summing up the coefficient difference\n",
        "print(se) #square error"
      ],
      "execution_count": 51,
      "outputs": [
        {
          "output_type": "stream",
          "name": "stdout",
          "text": [
            "[1] 0.1988963\n"
          ]
        }
      ]
    },
    {
      "cell_type": "markdown",
      "metadata": {
        "id": "AioDmZ2kSJbq"
      },
      "source": [
        "2. Using a for loop repeat the simulation 1000 times and calculate the average of the square errors for each simulation (mean square error). (10 points)"
      ]
    },
    {
      "cell_type": "code",
      "metadata": {
        "id": "7AbQUFEoSVN7",
        "colab": {
          "base_uri": "https://localhost:8080/"
        },
        "outputId": "570921b1-05ee-409e-9d31-965ee38aa121"
      },
      "source": [
        "#Insert your code answer here:\n",
        "%%R\n",
        "library(MASS)\n",
        "N=25 # Sample size\n",
        "residual_sd = 1 # Standard deviation for residuals (same as y_stddev above)\n",
        "coeffs = c(0,1,2,3) # True linear coefficients for 1, x1, x2, x3\n",
        "Sigma = rbind(c(1,0,0),\n",
        "              c(0,1,0),\n",
        "              c(0,0,1)) # Covariance matrix for simulating multiple x values\n",
        "#Sigma = diag(3) # Short hand for the above. Useful for HW.\n",
        "mu = c(0,0,0) # Average values for the x coordinates\n",
        "x = NULL\n",
        "for (i in 1:1000) {\n",
        "  xvals = mvrnorm(N, mu, Sigma) # Simulate x values from a multivariate normal\n",
        "  yvals = rowSums(t(t(xvals)*coeffs[2:4]))+rnorm(N,coeffs[1],residual_sd) # calculate y values according to the formula y=coeff1*x1+coeff2*x2+coeff3*x3+epsilon\n",
        "  data = data.frame(cbind(xvals,yvals)) # data.frame, make larger amounts of data easier to work with\n",
        "  colnames(data) = c(\"x1\",\"x2\",\"x3\",\"y\") # label columns of the data.frame so we can refer to them later\n",
        "  fit = lm(y~x1+x2+x3,data=data) # fit a multiple linear regression\n",
        "  coeff_diff = coeffs - fit$coefficients #difference of 2 coefficients\n",
        "  square_coeff_vec = coeff_diff^2 #squaring the coefficient difference\n",
        "  se = sum(square_coeff_vec) #summing up the coefficient difference\n",
        "  x = c(x, se) #making a vector of errors for 1000 iterations\n",
        "}\n",
        "print(mean(x)) #Taking the mean of the vector to get MSE  \n"
      ],
      "execution_count": 70,
      "outputs": [
        {
          "output_type": "stream",
          "name": "stdout",
          "text": [
            "[1] 0.2007149\n"
          ]
        }
      ]
    },
    {
      "cell_type": "markdown",
      "metadata": {
        "id": "1PYLcpTTSSBa"
      },
      "source": [
        "3. Repeat 2 for N=10,25,100,1000. Make this easier for yourself by using a for loop. (15 points)"
      ]
    },
    {
      "cell_type": "code",
      "metadata": {
        "id": "ESpvVxanSV1K",
        "colab": {
          "base_uri": "https://localhost:8080/"
        },
        "outputId": "db8b751e-544d-4ae5-8aa2-7cf7bec18e7e"
      },
      "source": [
        "#Insert your code answer here:\n",
        "%%R\n",
        "library(MASS)\n",
        "#N=25 # Sample size\n",
        "residual_sd = 1 # Standard deviation for residuals (same as y_stddev above)\n",
        "coeffs = c(0,1,2,3) # True linear coefficients for 1, x1, x2, x3\n",
        "Sigma = rbind(c(1,0,0),\n",
        "              c(0,1,0),\n",
        "              c(0,0,1)) # Covariance matrix for simulating multiple x values\n",
        "#Sigma = diag(3) # Short hand for the above. Useful for HW.\n",
        "mu = c(0,0,0) # Average values for the x coordinates\n",
        "#x = c()\n",
        "part3_mse = c()\n",
        "for (N in c(10, 25, 100, 1000)) {\n",
        "    x = c()\n",
        "    \n",
        "for (i in 1:1000) {\n",
        "  xvals = mvrnorm(N, mu, Sigma) # Simulate x values from a multivariate normal\n",
        "  yvals = rowSums(t(t(xvals)*coeffs[2:4]))+rnorm(N,coeffs[1],residual_sd) # calculate y values according to the formula y=coeff1*x1+coeff2*x2+coeff3*x3+epsilon\n",
        "  data = data.frame(cbind(xvals,yvals)) # data.frame, make larger amounts of data easier to work with\n",
        "  colnames(data) = c(\"x1\",\"x2\",\"x3\",\"y\") # label columns of the data.frame so we can refer to them later\n",
        "  fit = lm(y~x1+x2+x3,data=data) # fit a multiple linear regression\n",
        "  coeff_diff = coeffs - fit$coefficients #difference of 2 coefficients\n",
        "  square_coeff_vec = coeff_diff^2 #squaring the coefficient difference\n",
        "  se = sum(square_coeff_vec) #summing up the coefficient difference\n",
        "  x = c(x, se) #making a vector of errors for 1000 iterations\n",
        "}\n",
        "print(mean(x)) #Taking the mean of SE vector for N-times\n",
        "part3_mse = c(part3_mse, mean(x)) #saving the mean as a vector for use in Q5\n",
        "}\n"
      ],
      "execution_count": 71,
      "outputs": [
        {
          "output_type": "stream",
          "name": "stdout",
          "text": [
            "[1] 0.7818845\n",
            "[1] 0.1900481\n",
            "[1] 0.04083015\n",
            "[1] 0.004023632\n"
          ]
        }
      ]
    },
    {
      "cell_type": "code",
      "metadata": {
        "colab": {
          "base_uri": "https://localhost:8080/"
        },
        "id": "GOFMV7VsjfRk",
        "outputId": "9fdedfea-bef8-4dc7-997d-703dc7391159"
      },
      "source": [
        "%%R\n",
        "part3_mse #vector to be used for q5 from q4"
      ],
      "execution_count": 72,
      "outputs": [
        {
          "output_type": "stream",
          "name": "stdout",
          "text": [
            "[1] 0.781884530 0.190048052 0.040830153 0.004023632\n"
          ]
        }
      ]
    },
    {
      "cell_type": "markdown",
      "metadata": {
        "id": "fL6UYdu0STRy"
      },
      "source": [
        "4. Repeat 3 with 5 x variables instead of 3. Keep using the identity matrix for Sigma (diag(5)) and make the coefficients 0,1,2,3,4 and 5. (10 points)\n"
      ]
    },
    {
      "cell_type": "code",
      "metadata": {
        "colab": {
          "base_uri": "https://localhost:8080/"
        },
        "id": "hvN49Z-EJtGm",
        "outputId": "36d5242b-ba61-4454-cf06-46e80dde1aa2"
      },
      "source": [
        "#Insert your code answer here:\n",
        "%%R\n",
        "residual_sd = 1 # Standard deviation for residuals (same as y_stddev above)\n",
        "coeffs = c(0,1,2,3,4,5)  # True linear coefficients for 1, x1, x2, x3\n",
        "Sigma = diag(5) # Covariance matrix for simulating multiple x values\n",
        "mu = c(0,0,0,0,0) # Average values for the x coordinates\n",
        "\n",
        "part4_mse = c()\n",
        "for (N in c(10,25,100,1000)) {\n",
        "  x = c()\n",
        "for (i in 1:1000) {\n",
        "  xvals = mvrnorm(N, mu, Sigma) # Simulate x values from a multivariate normal\n",
        "  yvals = rowSums(t(t(xvals)*coeffs[2:6]))+rnorm(N,coeffs[1],residual_sd) # calculate y values according to the formula y=coeff1*x1+coeff2*x2+coeff3*x3+epsilon\n",
        "  data = data.frame(cbind(xvals,yvals)) # data.frame, make larger amounts of data easier to work with\n",
        "  colnames(data) = c(\"x1\",\"x2\",\"x3\",\"x4\",\"x5\",\"y\") # label columns of the data.frame so we can refer to them later\n",
        "  fit = lm(y~x1+x2+x3+x4+x5,data=data) # fit a multiple linear regression\n",
        "  coeff_diff = coeffs - fit$coefficients #difference of 2 coefficients\n",
        "  square_coeff_vec = coeff_diff^2 #squaring the coefficient difference\n",
        "  se = sum(square_coeff_vec) #summing up the coefficient difference\n",
        "  x = c(x, se) #making a vector of mse for 1000 iterations\n",
        "}\n",
        "print(mean(x)) #Taking the mean of MSE vector for N-times\n",
        "part4_mse = c(part4_mse, mean(x)) #saving the mean as a vector for use in Q5\n",
        "}"
      ],
      "execution_count": 75,
      "outputs": [
        {
          "output_type": "stream",
          "name": "stdout",
          "text": [
            "[1] 1.855586\n",
            "[1] 0.3398648\n",
            "[1] 0.06498963\n",
            "[1] 0.006106301\n"
          ]
        }
      ]
    },
    {
      "cell_type": "code",
      "metadata": {
        "colab": {
          "base_uri": "https://localhost:8080/"
        },
        "id": "CHOjegumnrpp",
        "outputId": "5e9f2d8a-7ed8-4162-9829-bfe5824c9c07"
      },
      "source": [
        "%%R\n",
        "part4_mse #vector to be used in q5 from q4"
      ],
      "execution_count": 74,
      "outputs": [
        {
          "output_type": "stream",
          "name": "stdout",
          "text": [
            "[1] 2.010191311 0.331735556 0.064806415 0.006138729\n"
          ]
        }
      ]
    },
    {
      "cell_type": "markdown",
      "metadata": {
        "id": "Q-iBCeQ3SUSS"
      },
      "source": [
        "5. Along with you code, submit a 2x4 table with the mean square errors from parts 3 and 4. (15 points)"
      ]
    },
    {
      "cell_type": "code",
      "metadata": {
        "id": "OiOlcho6SW8m",
        "colab": {
          "base_uri": "https://localhost:8080/"
        },
        "outputId": "1b332618-ce2f-4a17-cc5e-1658d4a6cba9"
      },
      "source": [
        "#Insert your code answer here:\n",
        "%%R\n",
        "mse_Table1 = as.table(part3_mse, byrow = TRUE)\n",
        "mse_Table2 = as.table(part4_mse, byrow = TRUE)\n",
        "mse_Table = rbind(mse_Table1, mse_Table2)\n",
        "rownames(mse_Table) = c(\"3_variables\", \"5_variables\")\n",
        "colnames(mse_Table) = c(\"N-10\", \"N-25\", \"N-100\", \"N-1000\")\n",
        "mse_Table"
      ],
      "execution_count": 77,
      "outputs": [
        {
          "output_type": "stream",
          "name": "stdout",
          "text": [
            "                 N-10      N-25      N-100      N-1000\n",
            "3_variables 0.7818845 0.1900481 0.04083015 0.004023632\n",
            "5_variables 1.8555860 0.3398648 0.06498963 0.006106301\n"
          ]
        }
      ]
    }
  ]
}
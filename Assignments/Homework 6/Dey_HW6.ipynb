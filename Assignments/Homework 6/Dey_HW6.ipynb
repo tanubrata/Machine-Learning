{
  "nbformat": 4,
  "nbformat_minor": 0,
  "metadata": {
    "colab": {
      "name": "Dey_HW6.ipynb",
      "provenance": [],
      "collapsed_sections": []
    },
    "kernelspec": {
      "name": "python3",
      "display_name": "Python 3"
    }
  },
  "cells": [
    {
      "cell_type": "markdown",
      "metadata": {
        "id": "d0zfoWu2snpP"
      },
      "source": [
        "## **Name : Tanubrata Dey (td2201)**"
      ]
    },
    {
      "cell_type": "markdown",
      "metadata": {
        "id": "5O0sSlsBuaC0"
      },
      "source": [
        "An alternative to Baum-Welch for fitting the parameters of HMMs is Viterbi training. Viterbi training is similar to Baum-Welch, except that instead of calculating the probability of each transition at each time step, we run the Viterbi algorithm and count the number of transitions. In the HMM package, the viterbiTraining function runs this algorithm and works just like baumWelch: \tviterbiTraining(KittenGuess, KittenSim1000$observation) \n",
        "\n",
        "To compare these two algorithms, we will need a metric. There are many options, but let’s use the maximum absolute error of the transition matrix: \tmax(abs(KittenHMMEstimate$hmm$transProbs-Tmat)) \n",
        "1.\tSimulate 1000 observations from the kitten HMM using the modified transition and emission matrix I used in ExpectationMaximization.ipynb \n",
        "2.\tRun both Baum-Welch and Viterbi training on these observations using the same initial guess as in ExpectationMaximization.ipynb. How do the maximum absolute errors compare? How do the algorithm run times compare? \n",
        "3.\tNow try using an initial guess with the following transition matrix: T_guess = rbind(c(1/2,1/2,0),c(0,1/2,1/2),c(1,0,0)). How do the maximum absolute errors compare? \n",
        "4.\tTry a couple other initial guesses to get a sense of how the initial guess effects the final result for these two algorithms. See if you can break Baum-Welch."
      ]
    },
    {
      "cell_type": "code",
      "metadata": {
        "id": "geX7FBPruYdX"
      },
      "source": [
        "### R recommended\n",
        "\n",
        "%%capture\n",
        "%load_ext rpy2.ipython"
      ],
      "execution_count": 1,
      "outputs": []
    },
    {
      "cell_type": "code",
      "metadata": {
        "id": "-oQxJqI46F5g"
      },
      "source": [
        "%%capture\n",
        "%%R\n",
        "install.packages(\"HMM\")\n",
        "library(HMM)"
      ],
      "execution_count": 2,
      "outputs": []
    },
    {
      "cell_type": "markdown",
      "metadata": {
        "id": "pj9q3OVR6TjH"
      },
      "source": [
        "**Q1. Simulate 1000 observations from the kitten HMM using the modified transition and emission matrix I used in ExpectationMaximization.ipynb** "
      ]
    },
    {
      "cell_type": "code",
      "metadata": {
        "colab": {
          "base_uri": "https://localhost:8080/"
        },
        "id": "SBIAKd9p6TRP",
        "outputId": "d5422022-08e3-476e-ddd6-952c0aaf9769"
      },
      "source": [
        "%%R\n",
        "Tmat = rbind(c(0.95,0.05,0.0),c(0.0,0.9,0.1),c(1.0,0.0,0.0))\n",
        "Pi = c(1.0,0.0,0.0)\n",
        "Emat = rbind(c(0.1,0.9),c(0.9,0.1),c(0.5,0.5))\n",
        "KittenHMM = initHMM(c(\"S\",\"P\",\"E\"), c(\"N\",\"Q\"), startProbs=Pi, transProbs=Tmat, emissionProbs=Emat)\n",
        "KittenSim_1000 = simHMM(KittenHMM,1000)\n",
        "print(paste(KittenSim_1000$states,collapse=''))\n",
        "print(paste(KittenSim_1000$observation,collapse=''))"
      ],
      "execution_count": 70,
      "outputs": [
        {
          "output_type": "stream",
          "name": "stdout",
          "text": [
            "[1] \"SSSSPPPPPESSSSPPPPPPESSSPPPPPPPPPPPPESSSSSSSSSSSSSSSSSSSSSSSSSSSSSSSSSSSSPPPPPPPPPPPPPPESSSPPPPPPPPPPESSSSSSSSSSSSSSPPPPPPPPPPPPPPPPPPPPPESSSSSSSSSPPPPPPPPPPPESSSSSSSSSSSSSSSSSSSPPPPESSSSSSSSSSSSSSSSSSSSSSSSSSSSSSPPPPPPPPPPPPPPPPPPPPPESSSPESSSSSSSSSSSSSSSSSSSSSSSSSSSSSSSSSSSSPPPPESSSSSSSSSSSSSSSSSSSSSSSSSSSSSSSPPESSSSSSSSSSSSSSSPPPPPPPPPESSSSSSSSSSSSSSSSSSSSSSSSSSSSSPPPPPPESSPPPPPPPPPPPPPPESSSSSPPPPESSSSSSPPPPPESSSSSSSSSSSSSSSSPPESSSSSSPPPPPPPPPPPPPPPPPPPPPPPPPPPPPPPPPPPPESSSSSSSSSSPPPPPPPPPPPPPPPESSSSSSSSSSSSSSSSSSSPPPPPPPPPPESSSSSSSSSPPPESSSSSSSSSSSSSSSSSSSSSPPPPPPPPPPPPPESSSSSSSSSPPPPPPPPPPPPPPPPPPPPPPESSSSSSSSSSSSSSSSSSSSSSSSSSSSSSSSSSSSSSSSPPPPPPPPPPPPPPPPPPPPPPPPPPPPPPPPPPPPPESSSSPPPPPESSSSSSSSSSSSSSSSSPPESSSSSSSSSSSSSSSSSSSSSSSPPPESSSSSSSSSSSSSSSSSSSPPPPPPPPPPPPPPPPPPPESSSSSSSSSSSSSSSSSSSSSSSSSSSSSSSSSSSSSSSSSSSSSSSSSSSSSSSSSSSSSSSSSSSSSSSSPPPPPPPPPPPPPPPPPESSSSSSSSSSPESSSSSPPPPPPPPPPPPPPESSSSSSSSSSSSSSSSSSSSSSSSPPESSSSSSSSSSSSSSSSSSSSSSSSSSSSSSSSPPPPPPESSSSSSSSSSSSSSSSSSSPPPPPP\"\n",
            "[1] \"QQQQNNNNNQQQQNNNNNNNQQQQNNNNQNNNNNNNQNQQQQQQQQQQQQQQQQQNQQQQQQQQQQQQQQQQQNNNNNNNNNNNNNQQQQQNNNNNNNNNNNQQQQQQQQQQQNQQNNNNNNNNNNNQNNNNNNNNNNQQQQQQQQQNNNNNNNNNNNNQQQQQQQQQQQQQQQQQQQNQNNQQQQQQQQQQQQQQQQQQQQQQQQQNQQQQQNNNNNNNNNNNNQNQNNQNNNQQQQNNQQNQQQQQQQQQQQQQQQQQQNQQQQQQQNQQQNQQNNQNQQNQNQNQQQQNQQQQQQQQQNQQQQQQQQQQNNNQQQQQQQQQQQQQQQNQNNNNNNNQQNQQQQQQQQQQQQQQQQQQQQQQQQQNQQNNNNNNNNNNNNNNNNNNNNNNQNQQQQNQNNNQQQQQQNNNNNQQNQQQQQQQQQNQQQQNNQQQQNNQNQQNNNNNQNNNNNNNNNNQNNNNNNNQNNNNNNNNNQQQQQQQNQQQNNNNQNNNNNNNNNNQQQQQQQQQQQNQNQQQQQNNNNNNNNNQNQQQQQQQQQNNNQQQQQNQQQQQQQQQQQQQQQQNNNNNNNNNNNNNQNQQQQQNNQNNNNNNNNNNNNNNNNNNNNNNNNQQQQQQQQQQQQQQNQQQQQQQQQNQQQQQQQQQQNNQQNNNNQNQNNNNNNNNNNNQNNNNQNQNNNNQNNNNNNNQQQQNNNNNNQQQQQQQQQQQQQQNNQNNQQQNQQQQQNQQQQQNQQQQNQQQNNQQQQQQQQQQQQQNQNQQNQQNNNNNNNQNNNQNNNNNNQNQQQQQQQQQQQQQQQQQQQQQQQQQNQNNQQNQQQQQQQQQQQQNQNQQQNQQQQQQQQQQQQQQQQQQQQQQNNNNNQNNNNNNNNNNQQQQQQQQQQQNQQNQQQNNNQNNNNNNNQNNQQNQQNQQQQQQQQQQQQNQQQQQQQNNQQQQQQQQQQQQQQQQQQNQNQQQQQQNQQQQNNNNNNQQQQQQQNQQQQQQQQQQNQNNNNNN\"\n"
          ]
        }
      ]
    },
    {
      "cell_type": "markdown",
      "metadata": {
        "id": "zkGkDVwksQV-"
      },
      "source": [
        "***"
      ]
    },
    {
      "cell_type": "markdown",
      "metadata": {
        "id": "8zdKDMGz9jVp"
      },
      "source": [
        "**Q2. Run both Baum-Welch and Viterbi training on these observations using the same initial guess as in ExpectationMaximization.ipynb. How do the maximum absolute errors compare? How do the algorithm run times compare?** "
      ]
    },
    {
      "cell_type": "code",
      "metadata": {
        "id": "CbYE-KMo9M2C"
      },
      "source": [
        "%%R\n",
        "T_guess = rbind(c(0.9,0.1,0.0),c(0.0,0.8,0.2),c(1.0,0.0,0.0))\n",
        "E_guess = rbind(c(0.1,0.9),c(0.9,0.1),c(0.5,0.5))\n",
        "KittenGuess = initHMM(c(\"S\",\"P\",\"E\"), c(\"N\",\"Q\"), transProbs=T_guess, emissionProbs=E_guess)\n",
        "#KittenSim_1000 = simHMM(KittenHMM,1000)\n"
      ],
      "execution_count": 60,
      "outputs": []
    },
    {
      "cell_type": "code",
      "metadata": {
        "colab": {
          "base_uri": "https://localhost:8080/"
        },
        "id": "34VcTYL4-pVF",
        "outputId": "ef79873b-391c-4e02-92c2-727b8bb7b8f1"
      },
      "source": [
        "%%R\n",
        "KittenHMMEstimate = baumWelch(KittenGuess, KittenSim_1000$observation) #Baum-Welch\n",
        "print(KittenHMMEstimate$hmm$transProbs)\n",
        "print(KittenHMMEstimate$hmm$emissionProbs)"
      ],
      "execution_count": 61,
      "outputs": [
        {
          "output_type": "stream",
          "name": "stdout",
          "text": [
            "    to\n",
            "from         S         P         E\n",
            "   S 0.9537048 0.0462952 0.0000000\n",
            "   P 0.0000000 0.8777315 0.1222685\n",
            "   E 1.0000000 0.0000000 0.0000000\n",
            "      symbols\n",
            "states          N          Q\n",
            "     S 0.07461646 0.92538354\n",
            "     P 0.92028413 0.07971587\n",
            "     E 0.10487812 0.89512188\n"
          ]
        }
      ]
    },
    {
      "cell_type": "code",
      "metadata": {
        "colab": {
          "base_uri": "https://localhost:8080/"
        },
        "id": "AjR3qCruFBhC",
        "outputId": "c44a6a72-5b6f-42c8-f691-f225fb19f032"
      },
      "source": [
        "%%R\n",
        "KittenHMMEstimate_Viterbi = viterbiTraining(KittenGuess, KittenSim_1000$observation) #Viterbi\n",
        "print(KittenHMMEstimate_Viterbi$hmm$transProbs)\n",
        "print(KittenHMMEstimate_Viterbi$hmm$emissionProbs)"
      ],
      "execution_count": 62,
      "outputs": [
        {
          "output_type": "stream",
          "name": "stdout",
          "text": [
            "    to\n",
            "from         S          P         E\n",
            "   S 0.9565217 0.04347826 0.0000000\n",
            "   P 0.0000000 0.86147186 0.1385281\n",
            "   E 1.0000000 0.00000000 0.0000000\n",
            "      symbols\n",
            "states          N          Q\n",
            "     S 0.06648575 0.93351425\n",
            "     P 0.94805195 0.05194805\n",
            "     E 1.00000000 0.00000000\n"
          ]
        }
      ]
    },
    {
      "cell_type": "code",
      "metadata": {
        "colab": {
          "base_uri": "https://localhost:8080/"
        },
        "id": "c4btXmsrsV-t",
        "outputId": "048f9c81-2557-4920-8260-ee9415daadc1"
      },
      "source": [
        "%%R\n",
        "#maximum absolute errors\n",
        "print(max(abs(KittenHMMEstimate$hmm$transProbs - Tmat))) #MAE of Baum_Welch\n",
        "print(max(abs(KittenHMMEstimate_Viterbi$hmm$transProbs - Tmat))) #MAE of Viterbi\n"
      ],
      "execution_count": 63,
      "outputs": [
        {
          "output_type": "stream",
          "name": "stdout",
          "text": [
            "[1] 0.02226848\n",
            "[1] 0.03852814\n"
          ]
        }
      ]
    },
    {
      "cell_type": "markdown",
      "metadata": {
        "id": "cj10PEl20bkk"
      },
      "source": [
        "The maximum absolute error for Baum-Welch algorithm is ~0.022 and for Viterbi algorithm, its ~0.038 and it pretty much looks both of them performed well but kind of looks like Baum-Welch gave ~0.01 less error compared to Viterbi which is acceptable. Now comparing how much time each took, Baum-Welch almost took 14 seconds whereas Viterbi took only 4 seconds which is pretty low meaning Viterbi worked much faster compared to Baum-Welch.\n",
        "\n",
        "***"
      ]
    },
    {
      "cell_type": "markdown",
      "metadata": {
        "id": "gvoEbr-hv1rj"
      },
      "source": [
        "**3. Now try using an initial guess with the following transition matrix: T_guess = rbind(c(1/2,1/2,0),c(0,1/2,1/2),c(1,0,0)). How do the maximum absolute errors compare?**"
      ]
    },
    {
      "cell_type": "code",
      "metadata": {
        "id": "EULUudOtwMR0"
      },
      "source": [
        "%%R\n",
        "T_guess =  rbind(c(1/2, 1/2, 0), c(0, 1/2, 1/2), c(1, 0, 0))\n",
        "E_guess = rbind(c(0.1,0.9),c(0.9,0.1),c(0.5,0.5))\n",
        "KittenGuess = initHMM(c(\"S\",\"P\",\"E\"), c(\"N\",\"Q\"), transProbs=T_guess, emissionProbs=E_guess)\n",
        "#KittenSim_1000 = simHMM(KittenHMM,1000)\n"
      ],
      "execution_count": 64,
      "outputs": []
    },
    {
      "cell_type": "code",
      "metadata": {
        "colab": {
          "base_uri": "https://localhost:8080/"
        },
        "id": "ctEF9I8t5nls",
        "outputId": "cfeda920-694c-4e2f-e2d0-a41a1ce04695"
      },
      "source": [
        "%%R\n",
        "KittenHMMEstimate = baumWelch(KittenGuess, KittenSim_1000$observation) #Baum-Welch\n",
        "print(KittenHMMEstimate$hmm$transProbs)\n",
        "print(KittenHMMEstimate$hmm$emissionProbs)"
      ],
      "execution_count": 65,
      "outputs": [
        {
          "output_type": "stream",
          "name": "stdout",
          "text": [
            "    to\n",
            "from         S          P         E\n",
            "   S 0.9530875 0.04691247 0.0000000\n",
            "   P 0.0000000 0.87837441 0.1216256\n",
            "   E 1.0000000 0.00000000 0.0000000\n",
            "      symbols\n",
            "states          N          Q\n",
            "     S 0.07408977 0.92591023\n",
            "     P 0.91960554 0.08039446\n",
            "     E 0.03200341 0.96799659\n"
          ]
        }
      ]
    },
    {
      "cell_type": "code",
      "metadata": {
        "colab": {
          "base_uri": "https://localhost:8080/"
        },
        "id": "BROA7xYEwg_0",
        "outputId": "80a34fd0-cdb9-49db-b5a3-52857937ad25"
      },
      "source": [
        "%%R\n",
        "KittenHMMEstimate_Viterbi = viterbiTraining(KittenGuess, KittenSim_1000$observation) #Viterbi\n",
        "print(KittenHMMEstimate_Viterbi$hmm$transProbs)\n",
        "print(KittenHMMEstimate_Viterbi$hmm$emissionProbs)"
      ],
      "execution_count": 66,
      "outputs": [
        {
          "output_type": "stream",
          "name": "stdout",
          "text": [
            "    to\n",
            "from         S         P         E\n",
            "   S 0.8654434 0.1345566 0.0000000\n",
            "   P 0.0000000 0.6575875 0.3424125\n",
            "   E 1.0000000 0.0000000 0.0000000\n",
            "      symbols\n",
            "states         N          Q\n",
            "     S 0.0000000 1.00000000\n",
            "     P 0.9805447 0.01945525\n",
            "     E 0.5454545 0.45454545\n"
          ]
        }
      ]
    },
    {
      "cell_type": "code",
      "metadata": {
        "colab": {
          "base_uri": "https://localhost:8080/"
        },
        "id": "3dsOqFzJwmGE",
        "outputId": "85e397d7-60ec-4680-d4a3-cc49cbcec2fa"
      },
      "source": [
        "%%R\n",
        "#maximum absolute errors \n",
        "print(max(abs(KittenHMMEstimate$hmm$transProbs - Tmat))) #MAE of Baum_Welch\n",
        "print(max(abs(KittenHMMEstimate_Viterbi$hmm$transProbs - Tmat))) #MAE of Viterbi\n"
      ],
      "execution_count": 68,
      "outputs": [
        {
          "output_type": "stream",
          "name": "stdout",
          "text": [
            "[1] 0.02162559\n",
            "[1] 0.2424125\n"
          ]
        }
      ]
    },
    {
      "cell_type": "markdown",
      "metadata": {
        "id": "gmvfUkwR0Zz5"
      },
      "source": [
        "By changing initial T_guess, the maximum absolute error for Baum-Welch algorithm is ~0.021 and for Viterbi algorithm its ~0.242 and comparing the values it looks like Baum-Welch performed much better whereas Viterbi was not that much efficient this time. Based on the results it looks Baum-Welch gives more accurate output, though it takes more time.\n",
        "\n",
        "***"
      ]
    },
    {
      "cell_type": "markdown",
      "metadata": {
        "id": "wa7fLwx_w7XM"
      },
      "source": [
        "**4. Try a couple other initial guesses to get a sense of how the initial guess effects the final result for these two algorithms. See if you can break Baum-Welch.**"
      ]
    },
    {
      "cell_type": "code",
      "metadata": {
        "colab": {
          "base_uri": "https://localhost:8080/"
        },
        "id": "wkRFLwpSw6xb",
        "outputId": "a3100ce5-3429-468c-b700-2083030d45b6"
      },
      "source": [
        "%%R\n",
        "T_guess = rbind(c(0.5,0.9,0.3),c(0.2,0.1,0.9),c(1.0,0.0,0.0))\n",
        "E_guess = rbind(c(0.1,0.9),c(0.9,0.1),c(0.5,0.5))\n",
        "KittenGuess = initHMM(c(\"S\",\"P\",\"E\"), c(\"N\",\"Q\"), transProbs=T_guess, emissionProbs=E_guess)\n",
        "#KittenSim_1000 = simHMM(KittenHMM,1000)\n",
        "\n",
        "KittenHMMEstimate = baumWelch(KittenGuess, KittenSim_1000$observation) #Baum-Welch\n",
        "print(KittenHMMEstimate$hmm$transProbs)\n",
        "print(KittenHMMEstimate$hmm$emissionProbs)\n",
        "print(max(abs(KittenHMMEstimate$hmm$transProbs - Tmat))) #MAE of Baum_Welch"
      ],
      "execution_count": 71,
      "outputs": [
        {
          "output_type": "stream",
          "name": "stdout",
          "text": [
            "    to\n",
            "from          S          P          E\n",
            "   S 0.64852757 0.07444616 0.27702627\n",
            "   P 0.02800166 0.90788697 0.06411137\n",
            "   E 1.00000000 0.00000000 0.00000000\n",
            "      symbols\n",
            "states          N          Q\n",
            "     S 0.11294898 0.88705102\n",
            "     P 0.91015871 0.08984129\n",
            "     E 0.06987257 0.93012743\n",
            "[1] 0.3014724\n"
          ]
        }
      ]
    },
    {
      "cell_type": "code",
      "metadata": {
        "colab": {
          "base_uri": "https://localhost:8080/"
        },
        "id": "6-OhjCVuFcd9",
        "outputId": "833d6fc6-0541-4b95-d779-49ed07282d10"
      },
      "source": [
        "%%R\n",
        "T_guess = rbind(c(0.9,0.8,0.5),c(0.2,0.9,0.5),c(1.0,0.9,0.0))\n",
        "E_guess = rbind(c(0.1,0.9),c(0.9,0.1),c(0.5,0.5))\n",
        "KittenGuess = initHMM(c(\"S\",\"P\",\"E\"), c(\"N\",\"Q\"), transProbs=T_guess, emissionProbs=E_guess)\n",
        "#KittenSim_1000 = simHMM(KittenHMM,1000)\n",
        "\n",
        "KittenHMMEstimate = baumWelch(KittenGuess, KittenSim_1000$observation) #Baum-Welch\n",
        "print(KittenHMMEstimate$hmm$transProbs)\n",
        "print(KittenHMMEstimate$hmm$emissionProbs)\n",
        "print(max(abs(KittenHMMEstimate$hmm$transProbs - Tmat))) #MAE of Baum_Welch"
      ],
      "execution_count": 84,
      "outputs": [
        {
          "output_type": "stream",
          "name": "stdout",
          "text": [
            "    to\n",
            "from         S          P         E\n",
            "   S 0.8105639 0.01681941 0.1726167\n",
            "   P 0.0222462 0.88169890 0.0960549\n",
            "   E 0.7229649 0.27703510 0.0000000\n",
            "      symbols\n",
            "states          N          Q\n",
            "     S 0.09565806 0.90434194\n",
            "     P 0.93176565 0.06823435\n",
            "     E 0.16558278 0.83441722\n",
            "[1] 0.2770351\n"
          ]
        }
      ]
    },
    {
      "cell_type": "code",
      "metadata": {
        "colab": {
          "base_uri": "https://localhost:8080/",
          "height": 655
        },
        "id": "cWlc3uE07QzE",
        "outputId": "d5f4086e-1a0e-4ff6-ebe7-e55cfbc4b154"
      },
      "source": [
        "%%R\n",
        "T_guess = rbind(c(0.1,0.0,0.1),c(0.1,0.1,0.0),c(0.1,0.0,0.1))\n",
        "E_guess = rbind(c(0.1,0.9),c(0.9,0.1),c(0.5,0.5))\n",
        "KittenGuess = initHMM(c(\"S\",\"P\",\"E\"), c(\"N\",\"Q\"), transProbs=T_guess, emissionProbs=E_guess)\n",
        "#KittenSim_1000 = simHMM(KittenHMM,1000)\n",
        "\n",
        "KittenHMMEstimate = baumWelch(KittenGuess, KittenSim_1000$observation) #Baum-Welch\n",
        "print(KittenHMMEstimate$hmm$transProbs)\n",
        "print(KittenHMMEstimate$hmm$emissionProbs)\n",
        "print(max(abs(KittenHMMEstimate$hmm$transProbs - Tmat))) #MAE of Baum_Welch"
      ],
      "execution_count": 86,
      "outputs": [
        {
          "output_type": "stream",
          "name": "stderr",
          "text": [
            "R[write to console]: Error in if (temp > -Inf) { : missing value where TRUE/FALSE needed\n",
            "\n"
          ]
        },
        {
          "output_type": "stream",
          "name": "stdout",
          "text": [
            "\n",
            "Error in if (temp > -Inf) { : missing value where TRUE/FALSE needed\n"
          ]
        },
        {
          "output_type": "error",
          "ename": "RInterpreterError",
          "evalue": "ignored",
          "traceback": [
            "\u001b[0;31m---------------------------------------------------------------------------\u001b[0m",
            "\u001b[0;31mRRuntimeError\u001b[0m                             Traceback (most recent call last)",
            "\u001b[0;32m/usr/local/lib/python3.7/dist-packages/rpy2/ipython/rmagic.py\u001b[0m in \u001b[0;36meval\u001b[0;34m(self, code)\u001b[0m\n\u001b[1;32m    267\u001b[0m                 \u001b[0;31m# Need the newline in case the last line in code is a comment.\u001b[0m\u001b[0;34m\u001b[0m\u001b[0;34m\u001b[0m\u001b[0;34m\u001b[0m\u001b[0m\n\u001b[0;32m--> 268\u001b[0;31m                 \u001b[0mvalue\u001b[0m\u001b[0;34m,\u001b[0m \u001b[0mvisible\u001b[0m \u001b[0;34m=\u001b[0m \u001b[0mro\u001b[0m\u001b[0;34m.\u001b[0m\u001b[0mr\u001b[0m\u001b[0;34m(\u001b[0m\u001b[0;34m\"withVisible({%s\\n})\"\u001b[0m \u001b[0;34m%\u001b[0m \u001b[0mcode\u001b[0m\u001b[0;34m)\u001b[0m\u001b[0;34m\u001b[0m\u001b[0;34m\u001b[0m\u001b[0m\n\u001b[0m\u001b[1;32m    269\u001b[0m             \u001b[0;32mexcept\u001b[0m \u001b[0;34m(\u001b[0m\u001b[0mri\u001b[0m\u001b[0;34m.\u001b[0m\u001b[0membedded\u001b[0m\u001b[0;34m.\u001b[0m\u001b[0mRRuntimeError\u001b[0m\u001b[0;34m,\u001b[0m \u001b[0mValueError\u001b[0m\u001b[0;34m)\u001b[0m \u001b[0;32mas\u001b[0m \u001b[0mexception\u001b[0m\u001b[0;34m:\u001b[0m\u001b[0;34m\u001b[0m\u001b[0;34m\u001b[0m\u001b[0m\n",
            "\u001b[0;32m/usr/local/lib/python3.7/dist-packages/rpy2/robjects/__init__.py\u001b[0m in \u001b[0;36m__call__\u001b[0;34m(self, string)\u001b[0m\n\u001b[1;32m    437\u001b[0m         \u001b[0mp\u001b[0m \u001b[0;34m=\u001b[0m \u001b[0mrinterface\u001b[0m\u001b[0;34m.\u001b[0m\u001b[0mparse\u001b[0m\u001b[0;34m(\u001b[0m\u001b[0mstring\u001b[0m\u001b[0;34m)\u001b[0m\u001b[0;34m\u001b[0m\u001b[0;34m\u001b[0m\u001b[0m\n\u001b[0;32m--> 438\u001b[0;31m         \u001b[0mres\u001b[0m \u001b[0;34m=\u001b[0m \u001b[0mself\u001b[0m\u001b[0;34m.\u001b[0m\u001b[0meval\u001b[0m\u001b[0;34m(\u001b[0m\u001b[0mp\u001b[0m\u001b[0;34m)\u001b[0m\u001b[0;34m\u001b[0m\u001b[0;34m\u001b[0m\u001b[0m\n\u001b[0m\u001b[1;32m    439\u001b[0m         \u001b[0;32mreturn\u001b[0m \u001b[0mconversion\u001b[0m\u001b[0;34m.\u001b[0m\u001b[0mrpy2py\u001b[0m\u001b[0;34m(\u001b[0m\u001b[0mres\u001b[0m\u001b[0;34m)\u001b[0m\u001b[0;34m\u001b[0m\u001b[0;34m\u001b[0m\u001b[0m\n",
            "\u001b[0;32m/usr/local/lib/python3.7/dist-packages/rpy2/robjects/functions.py\u001b[0m in \u001b[0;36m__call__\u001b[0;34m(self, *args, **kwargs)\u001b[0m\n\u001b[1;32m    198\u001b[0m         return (super(SignatureTranslatedFunction, self)\n\u001b[0;32m--> 199\u001b[0;31m                 .__call__(*args, **kwargs))\n\u001b[0m\u001b[1;32m    200\u001b[0m \u001b[0;34m\u001b[0m\u001b[0m\n",
            "\u001b[0;32m/usr/local/lib/python3.7/dist-packages/rpy2/robjects/functions.py\u001b[0m in \u001b[0;36m__call__\u001b[0;34m(self, *args, **kwargs)\u001b[0m\n\u001b[1;32m    124\u001b[0m                 \u001b[0mnew_kwargs\u001b[0m\u001b[0;34m[\u001b[0m\u001b[0mk\u001b[0m\u001b[0;34m]\u001b[0m \u001b[0;34m=\u001b[0m \u001b[0mconversion\u001b[0m\u001b[0;34m.\u001b[0m\u001b[0mpy2rpy\u001b[0m\u001b[0;34m(\u001b[0m\u001b[0mv\u001b[0m\u001b[0;34m)\u001b[0m\u001b[0;34m\u001b[0m\u001b[0;34m\u001b[0m\u001b[0m\n\u001b[0;32m--> 125\u001b[0;31m         \u001b[0mres\u001b[0m \u001b[0;34m=\u001b[0m \u001b[0msuper\u001b[0m\u001b[0;34m(\u001b[0m\u001b[0mFunction\u001b[0m\u001b[0;34m,\u001b[0m \u001b[0mself\u001b[0m\u001b[0;34m)\u001b[0m\u001b[0;34m.\u001b[0m\u001b[0m__call__\u001b[0m\u001b[0;34m(\u001b[0m\u001b[0;34m*\u001b[0m\u001b[0mnew_args\u001b[0m\u001b[0;34m,\u001b[0m \u001b[0;34m**\u001b[0m\u001b[0mnew_kwargs\u001b[0m\u001b[0;34m)\u001b[0m\u001b[0;34m\u001b[0m\u001b[0;34m\u001b[0m\u001b[0m\n\u001b[0m\u001b[1;32m    126\u001b[0m         \u001b[0mres\u001b[0m \u001b[0;34m=\u001b[0m \u001b[0mconversion\u001b[0m\u001b[0;34m.\u001b[0m\u001b[0mrpy2py\u001b[0m\u001b[0;34m(\u001b[0m\u001b[0mres\u001b[0m\u001b[0;34m)\u001b[0m\u001b[0;34m\u001b[0m\u001b[0;34m\u001b[0m\u001b[0m\n",
            "\u001b[0;32m/usr/local/lib/python3.7/dist-packages/rpy2/rinterface_lib/conversion.py\u001b[0m in \u001b[0;36m_\u001b[0;34m(*args, **kwargs)\u001b[0m\n\u001b[1;32m     44\u001b[0m     \u001b[0;32mdef\u001b[0m \u001b[0m_\u001b[0m\u001b[0;34m(\u001b[0m\u001b[0;34m*\u001b[0m\u001b[0margs\u001b[0m\u001b[0;34m,\u001b[0m \u001b[0;34m**\u001b[0m\u001b[0mkwargs\u001b[0m\u001b[0;34m)\u001b[0m\u001b[0;34m:\u001b[0m\u001b[0;34m\u001b[0m\u001b[0;34m\u001b[0m\u001b[0m\n\u001b[0;32m---> 45\u001b[0;31m         \u001b[0mcdata\u001b[0m \u001b[0;34m=\u001b[0m \u001b[0mfunction\u001b[0m\u001b[0;34m(\u001b[0m\u001b[0;34m*\u001b[0m\u001b[0margs\u001b[0m\u001b[0;34m,\u001b[0m \u001b[0;34m**\u001b[0m\u001b[0mkwargs\u001b[0m\u001b[0;34m)\u001b[0m\u001b[0;34m\u001b[0m\u001b[0;34m\u001b[0m\u001b[0m\n\u001b[0m\u001b[1;32m     46\u001b[0m         \u001b[0;31m# TODO: test cdata is of the expected CType\u001b[0m\u001b[0;34m\u001b[0m\u001b[0;34m\u001b[0m\u001b[0;34m\u001b[0m\u001b[0m\n",
            "\u001b[0;32m/usr/local/lib/python3.7/dist-packages/rpy2/rinterface.py\u001b[0m in \u001b[0;36m__call__\u001b[0;34m(self, *args, **kwargs)\u001b[0m\n\u001b[1;32m    679\u001b[0m             \u001b[0;32mif\u001b[0m \u001b[0merror_occured\u001b[0m\u001b[0;34m[\u001b[0m\u001b[0;36m0\u001b[0m\u001b[0;34m]\u001b[0m\u001b[0;34m:\u001b[0m\u001b[0;34m\u001b[0m\u001b[0;34m\u001b[0m\u001b[0m\n\u001b[0;32m--> 680\u001b[0;31m                 \u001b[0;32mraise\u001b[0m \u001b[0membedded\u001b[0m\u001b[0;34m.\u001b[0m\u001b[0mRRuntimeError\u001b[0m\u001b[0;34m(\u001b[0m\u001b[0m_rinterface\u001b[0m\u001b[0;34m.\u001b[0m\u001b[0m_geterrmessage\u001b[0m\u001b[0;34m(\u001b[0m\u001b[0;34m)\u001b[0m\u001b[0;34m)\u001b[0m\u001b[0;34m\u001b[0m\u001b[0;34m\u001b[0m\u001b[0m\n\u001b[0m\u001b[1;32m    681\u001b[0m         \u001b[0;32mreturn\u001b[0m \u001b[0mres\u001b[0m\u001b[0;34m\u001b[0m\u001b[0;34m\u001b[0m\u001b[0m\n",
            "\u001b[0;31mRRuntimeError\u001b[0m: Error in if (temp > -Inf) { : missing value where TRUE/FALSE needed\n",
            "\nDuring handling of the above exception, another exception occurred:\n",
            "\u001b[0;31mRInterpreterError\u001b[0m                         Traceback (most recent call last)",
            "\u001b[0;32m<ipython-input-86-c26f2d63353b>\u001b[0m in \u001b[0;36m<module>\u001b[0;34m()\u001b[0m\n\u001b[0;32m----> 1\u001b[0;31m \u001b[0mget_ipython\u001b[0m\u001b[0;34m(\u001b[0m\u001b[0;34m)\u001b[0m\u001b[0;34m.\u001b[0m\u001b[0mrun_cell_magic\u001b[0m\u001b[0;34m(\u001b[0m\u001b[0;34m'R'\u001b[0m\u001b[0;34m,\u001b[0m \u001b[0;34m''\u001b[0m\u001b[0;34m,\u001b[0m \u001b[0;34m'T_guess = rbind(c(0.1,0.0,0.1),c(0.1,0.1,0.0),c(0.1,0.0,0.1))\\nE_guess = rbind(c(0.1,0.9),c(0.9,0.1),c(0.5,0.5))\\nKittenGuess = initHMM(c(\"S\",\"P\",\"E\"), c(\"N\",\"Q\"), transProbs=T_guess, emissionProbs=E_guess)\\n#KittenSim_1000 = simHMM(KittenHMM,1000)\\n\\nKittenHMMEstimate = baumWelch(KittenGuess, KittenSim_1000$observation) #Baum-Welch\\nprint(KittenHMMEstimate$hmm$transProbs)\\nprint(KittenHMMEstimate$hmm$emissionProbs)\\nprint(max(abs(KittenHMMEstimate$hmm$transProbs - Tmat))) #MAE of Baum_Welch'\u001b[0m\u001b[0;34m)\u001b[0m\u001b[0;34m\u001b[0m\u001b[0;34m\u001b[0m\u001b[0m\n\u001b[0m",
            "\u001b[0;32m/usr/local/lib/python3.7/dist-packages/IPython/core/interactiveshell.py\u001b[0m in \u001b[0;36mrun_cell_magic\u001b[0;34m(self, magic_name, line, cell)\u001b[0m\n\u001b[1;32m   2115\u001b[0m             \u001b[0mmagic_arg_s\u001b[0m \u001b[0;34m=\u001b[0m \u001b[0mself\u001b[0m\u001b[0;34m.\u001b[0m\u001b[0mvar_expand\u001b[0m\u001b[0;34m(\u001b[0m\u001b[0mline\u001b[0m\u001b[0;34m,\u001b[0m \u001b[0mstack_depth\u001b[0m\u001b[0;34m)\u001b[0m\u001b[0;34m\u001b[0m\u001b[0;34m\u001b[0m\u001b[0m\n\u001b[1;32m   2116\u001b[0m             \u001b[0;32mwith\u001b[0m \u001b[0mself\u001b[0m\u001b[0;34m.\u001b[0m\u001b[0mbuiltin_trap\u001b[0m\u001b[0;34m:\u001b[0m\u001b[0;34m\u001b[0m\u001b[0;34m\u001b[0m\u001b[0m\n\u001b[0;32m-> 2117\u001b[0;31m                 \u001b[0mresult\u001b[0m \u001b[0;34m=\u001b[0m \u001b[0mfn\u001b[0m\u001b[0;34m(\u001b[0m\u001b[0mmagic_arg_s\u001b[0m\u001b[0;34m,\u001b[0m \u001b[0mcell\u001b[0m\u001b[0;34m)\u001b[0m\u001b[0;34m\u001b[0m\u001b[0;34m\u001b[0m\u001b[0m\n\u001b[0m\u001b[1;32m   2118\u001b[0m             \u001b[0;32mreturn\u001b[0m \u001b[0mresult\u001b[0m\u001b[0;34m\u001b[0m\u001b[0;34m\u001b[0m\u001b[0m\n\u001b[1;32m   2119\u001b[0m \u001b[0;34m\u001b[0m\u001b[0m\n",
            "\u001b[0;32m<decorator-gen-119>\u001b[0m in \u001b[0;36mR\u001b[0;34m(self, line, cell, local_ns)\u001b[0m\n",
            "\u001b[0;32m/usr/local/lib/python3.7/dist-packages/IPython/core/magic.py\u001b[0m in \u001b[0;36m<lambda>\u001b[0;34m(f, *a, **k)\u001b[0m\n\u001b[1;32m    186\u001b[0m     \u001b[0;31m# but it's overkill for just that one bit of state.\u001b[0m\u001b[0;34m\u001b[0m\u001b[0;34m\u001b[0m\u001b[0;34m\u001b[0m\u001b[0m\n\u001b[1;32m    187\u001b[0m     \u001b[0;32mdef\u001b[0m \u001b[0mmagic_deco\u001b[0m\u001b[0;34m(\u001b[0m\u001b[0marg\u001b[0m\u001b[0;34m)\u001b[0m\u001b[0;34m:\u001b[0m\u001b[0;34m\u001b[0m\u001b[0;34m\u001b[0m\u001b[0m\n\u001b[0;32m--> 188\u001b[0;31m         \u001b[0mcall\u001b[0m \u001b[0;34m=\u001b[0m \u001b[0;32mlambda\u001b[0m \u001b[0mf\u001b[0m\u001b[0;34m,\u001b[0m \u001b[0;34m*\u001b[0m\u001b[0ma\u001b[0m\u001b[0;34m,\u001b[0m \u001b[0;34m**\u001b[0m\u001b[0mk\u001b[0m\u001b[0;34m:\u001b[0m \u001b[0mf\u001b[0m\u001b[0;34m(\u001b[0m\u001b[0;34m*\u001b[0m\u001b[0ma\u001b[0m\u001b[0;34m,\u001b[0m \u001b[0;34m**\u001b[0m\u001b[0mk\u001b[0m\u001b[0;34m)\u001b[0m\u001b[0;34m\u001b[0m\u001b[0;34m\u001b[0m\u001b[0m\n\u001b[0m\u001b[1;32m    189\u001b[0m \u001b[0;34m\u001b[0m\u001b[0m\n\u001b[1;32m    190\u001b[0m         \u001b[0;32mif\u001b[0m \u001b[0mcallable\u001b[0m\u001b[0;34m(\u001b[0m\u001b[0marg\u001b[0m\u001b[0;34m)\u001b[0m\u001b[0;34m:\u001b[0m\u001b[0;34m\u001b[0m\u001b[0;34m\u001b[0m\u001b[0m\n",
            "\u001b[0;32m/usr/local/lib/python3.7/dist-packages/rpy2/ipython/rmagic.py\u001b[0m in \u001b[0;36mR\u001b[0;34m(self, line, cell, local_ns)\u001b[0m\n\u001b[1;32m    781\u001b[0m             \u001b[0;32mif\u001b[0m \u001b[0;32mnot\u001b[0m \u001b[0me\u001b[0m\u001b[0;34m.\u001b[0m\u001b[0mstdout\u001b[0m\u001b[0;34m.\u001b[0m\u001b[0mendswith\u001b[0m\u001b[0;34m(\u001b[0m\u001b[0me\u001b[0m\u001b[0;34m.\u001b[0m\u001b[0merr\u001b[0m\u001b[0;34m)\u001b[0m\u001b[0;34m:\u001b[0m\u001b[0;34m\u001b[0m\u001b[0;34m\u001b[0m\u001b[0m\n\u001b[1;32m    782\u001b[0m                 \u001b[0mprint\u001b[0m\u001b[0;34m(\u001b[0m\u001b[0me\u001b[0m\u001b[0;34m.\u001b[0m\u001b[0merr\u001b[0m\u001b[0;34m)\u001b[0m\u001b[0;34m\u001b[0m\u001b[0;34m\u001b[0m\u001b[0m\n\u001b[0;32m--> 783\u001b[0;31m             \u001b[0;32mraise\u001b[0m \u001b[0me\u001b[0m\u001b[0;34m\u001b[0m\u001b[0;34m\u001b[0m\u001b[0m\n\u001b[0m\u001b[1;32m    784\u001b[0m         \u001b[0;32mfinally\u001b[0m\u001b[0;34m:\u001b[0m\u001b[0;34m\u001b[0m\u001b[0;34m\u001b[0m\u001b[0m\n\u001b[1;32m    785\u001b[0m             \u001b[0;32mif\u001b[0m \u001b[0mself\u001b[0m\u001b[0;34m.\u001b[0m\u001b[0mdevice\u001b[0m \u001b[0;32min\u001b[0m \u001b[0;34m[\u001b[0m\u001b[0;34m'png'\u001b[0m\u001b[0;34m,\u001b[0m \u001b[0;34m'svg'\u001b[0m\u001b[0;34m]\u001b[0m\u001b[0;34m:\u001b[0m\u001b[0;34m\u001b[0m\u001b[0;34m\u001b[0m\u001b[0m\n",
            "\u001b[0;32m/usr/local/lib/python3.7/dist-packages/rpy2/ipython/rmagic.py\u001b[0m in \u001b[0;36mR\u001b[0;34m(self, line, cell, local_ns)\u001b[0m\n\u001b[1;32m    761\u001b[0m                     \u001b[0mreturn_output\u001b[0m \u001b[0;34m=\u001b[0m \u001b[0;32mFalse\u001b[0m\u001b[0;34m\u001b[0m\u001b[0;34m\u001b[0m\u001b[0m\n\u001b[1;32m    762\u001b[0m             \u001b[0;32melse\u001b[0m\u001b[0;34m:\u001b[0m\u001b[0;34m\u001b[0m\u001b[0;34m\u001b[0m\u001b[0m\n\u001b[0;32m--> 763\u001b[0;31m                 \u001b[0mtext_result\u001b[0m\u001b[0;34m,\u001b[0m \u001b[0mresult\u001b[0m\u001b[0;34m,\u001b[0m \u001b[0mvisible\u001b[0m \u001b[0;34m=\u001b[0m \u001b[0mself\u001b[0m\u001b[0;34m.\u001b[0m\u001b[0meval\u001b[0m\u001b[0;34m(\u001b[0m\u001b[0mcode\u001b[0m\u001b[0;34m)\u001b[0m\u001b[0;34m\u001b[0m\u001b[0;34m\u001b[0m\u001b[0m\n\u001b[0m\u001b[1;32m    764\u001b[0m                 \u001b[0mtext_output\u001b[0m \u001b[0;34m+=\u001b[0m \u001b[0mtext_result\u001b[0m\u001b[0;34m\u001b[0m\u001b[0;34m\u001b[0m\u001b[0m\n\u001b[1;32m    765\u001b[0m                 \u001b[0;32mif\u001b[0m \u001b[0mvisible\u001b[0m\u001b[0;34m:\u001b[0m\u001b[0;34m\u001b[0m\u001b[0;34m\u001b[0m\u001b[0m\n",
            "\u001b[0;32m/usr/local/lib/python3.7/dist-packages/rpy2/ipython/rmagic.py\u001b[0m in \u001b[0;36meval\u001b[0;34m(self, code)\u001b[0m\n\u001b[1;32m    271\u001b[0m                 \u001b[0mwarning_or_other_msg\u001b[0m \u001b[0;34m=\u001b[0m \u001b[0mself\u001b[0m\u001b[0;34m.\u001b[0m\u001b[0mflush\u001b[0m\u001b[0;34m(\u001b[0m\u001b[0;34m)\u001b[0m\u001b[0;34m\u001b[0m\u001b[0;34m\u001b[0m\u001b[0m\n\u001b[1;32m    272\u001b[0m                 raise RInterpreterError(code, str(exception),\n\u001b[0;32m--> 273\u001b[0;31m                                         warning_or_other_msg)\n\u001b[0m\u001b[1;32m    274\u001b[0m             \u001b[0mtext_output\u001b[0m \u001b[0;34m=\u001b[0m \u001b[0mself\u001b[0m\u001b[0;34m.\u001b[0m\u001b[0mflush\u001b[0m\u001b[0;34m(\u001b[0m\u001b[0;34m)\u001b[0m\u001b[0;34m\u001b[0m\u001b[0;34m\u001b[0m\u001b[0m\n\u001b[1;32m    275\u001b[0m             \u001b[0;32mreturn\u001b[0m \u001b[0mtext_output\u001b[0m\u001b[0;34m,\u001b[0m \u001b[0mvalue\u001b[0m\u001b[0;34m,\u001b[0m \u001b[0mvisible\u001b[0m\u001b[0;34m[\u001b[0m\u001b[0;36m0\u001b[0m\u001b[0;34m]\u001b[0m\u001b[0;34m\u001b[0m\u001b[0;34m\u001b[0m\u001b[0m\n",
            "\u001b[0;31mRInterpreterError\u001b[0m: Failed to parse and evaluate line 'T_guess = rbind(c(0.1,0.0,0.1),c(0.1,0.1,0.0),c(0.1,0.0,0.1))\\nE_guess = rbind(c(0.1,0.9),c(0.9,0.1),c(0.5,0.5))\\nKittenGuess = initHMM(c(\"S\",\"P\",\"E\"), c(\"N\",\"Q\"), transProbs=T_guess, emissionProbs=E_guess)\\n#KittenSim_1000 = simHMM(KittenHMM,1000)\\n\\nKittenHMMEstimate = baumWelch(KittenGuess, KittenSim_1000$observation) #Baum-Welch\\nprint(KittenHMMEstimate$hmm$transProbs)\\nprint(KittenHMMEstimate$hmm$emissionProbs)\\nprint(max(abs(KittenHMMEstimate$hmm$transProbs - Tmat))) #MAE of Baum_Welch'.\nR error message: 'Error in if (temp > -Inf) { : missing value where TRUE/FALSE needed'"
          ]
        }
      ]
    },
    {
      "cell_type": "markdown",
      "metadata": {
        "id": "col2-VRPdwcX"
      },
      "source": [
        "Tmat = rbind(c(0.95,0.05,0.0),c(0.0,0.9,0.1),c(1.0,0.0,0.0))\n",
        "\n",
        "T_guess = rbind(c(0.1,0.0,0.1),c(0.1,0.1,0.0),c(0.1,0.0,0.1))\n",
        "\n",
        "If you compare the two matrices, the first one that's given that is Tmat has value in the middle of first vector whereas in the T_guess I changed that value to 0 meaning the initial guess probability is 0 whereas the given actual have value leading Baum-Welch to crash. "
      ]
    },
    {
      "cell_type": "markdown",
      "metadata": {
        "id": "99o10mrDsHQu"
      },
      "source": [
        "***"
      ]
    }
  ]
}